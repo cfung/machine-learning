{
 "cells": [
  {
   "cell_type": "markdown",
   "metadata": {},
   "source": [
    "# Machine Learning Engineer Nanodegree\n",
    "## Model Evaluation & Validation\n",
    "## Project: Predicting Boston Housing Prices\n",
    "\n",
    "Welcome to the first project of the Machine Learning Engineer Nanodegree! In this notebook, some template code has already been provided for you, and you will need to implement additional functionality to successfully complete this project. You will not need to modify the included code beyond what is requested. Sections that begin with **'Implementation'** in the header indicate that the following block of code will require additional functionality which you must provide. Instructions will be provided for each section and the specifics of the implementation are marked in the code block with a 'TODO' statement. Please be sure to read the instructions carefully!\n",
    "\n",
    "In addition to implementing code, there will be questions that you must answer which relate to the project and your implementation. Each section where you will answer a question is preceded by a **'Question X'** header. Carefully read each question and provide thorough answers in the following text boxes that begin with **'Answer:'**. Your project submission will be evaluated based on your answers to each of the questions and the implementation you provide.  \n",
    "\n",
    ">**Note:** Code and Markdown cells can be executed using the **Shift + Enter** keyboard shortcut. In addition, Markdown cells can be edited by typically double-clicking the cell to enter edit mode."
   ]
  },
  {
   "cell_type": "markdown",
   "metadata": {},
   "source": [
    "## Getting Started\n",
    "In this project, you will evaluate the performance and predictive power of a model that has been trained and tested on data collected from homes in suburbs of Boston, Massachusetts. A model trained on this data that is seen as a *good fit* could then be used to make certain predictions about a home — in particular, its monetary value. This model would prove to be invaluable for someone like a real estate agent who could make use of such information on a daily basis.\n",
    "\n",
    "The dataset for this project originates from the [UCI Machine Learning Repository](https://archive.ics.uci.edu/ml/datasets/Housing). The Boston housing data was collected in 1978 and each of the 506 entries represent aggregated data about 14 features for homes from various suburbs in Boston, Massachusetts. For the purposes of this project, the following preprocessing steps have been made to the dataset:\n",
    "- 16 data points have an `'MEDV'` value of 50.0. These data points likely contain **missing or censored values** and have been removed.\n",
    "- 1 data point has an `'RM'` value of 8.78. This data point can be considered an **outlier** and has been removed.\n",
    "- The features `'RM'`, `'LSTAT'`, `'PTRATIO'`, and `'MEDV'` are essential. The remaining **non-relevant features** have been excluded.\n",
    "- The feature `'MEDV'` has been **multiplicatively scaled** to account for 35 years of market inflation.\n",
    "\n",
    "Run the code cell below to load the Boston housing dataset, along with a few of the necessary Python libraries required for this project. You will know the dataset loaded successfully if the size of the dataset is reported."
   ]
  },
  {
   "cell_type": "code",
   "execution_count": 8,
   "metadata": {
    "collapsed": false
   },
   "outputs": [
    {
     "name": "stdout",
     "output_type": "stream",
     "text": [
      "Boston housing dataset has 489 data points with 4 variables each.\n"
     ]
    }
   ],
   "source": [
    "# Import libraries necessary for this project\n",
    "import numpy as np\n",
    "import pandas as pd\n",
    "from sklearn.cross_validation import ShuffleSplit\n",
    "\n",
    "# Import supplementary visualizations code visuals.py\n",
    "import visuals as vs\n",
    "\n",
    "# Pretty display for notebooks\n",
    "%matplotlib inline\n",
    "\n",
    "# Load the Boston housing dataset\n",
    "data = pd.read_csv('housing.csv')\n",
    "prices = data['MEDV']\n",
    "features = data.drop('MEDV', axis = 1)\n",
    "    \n",
    "# Success\n",
    "print \"Boston housing dataset has {} data points with {} variables each.\".format(*data.shape)"
   ]
  },
  {
   "cell_type": "markdown",
   "metadata": {},
   "source": [
    "## Data Exploration\n",
    "In this first section of this project, you will make a cursory investigation about the Boston housing data and provide your observations. Familiarizing yourself with the data through an explorative process is a fundamental practice to help you better understand and justify your results.\n",
    "\n",
    "Since the main goal of this project is to construct a working model which has the capability of predicting the value of houses, we will need to separate the dataset into **features** and the **target variable**. The **features**, `'RM'`, `'LSTAT'`, and `'PTRATIO'`, give us quantitative information about each data point. The **target variable**, `'MEDV'`, will be the variable we seek to predict. These are stored in `features` and `prices`, respectively."
   ]
  },
  {
   "cell_type": "markdown",
   "metadata": {},
   "source": [
    "### Implementation: Calculate Statistics\n",
    "For your very first coding implementation, you will calculate descriptive statistics about the Boston housing prices. Since `numpy` has already been imported for you, use this library to perform the necessary calculations. These statistics will be extremely important later on to analyze various prediction results from the constructed model.\n",
    "\n",
    "In the code cell below, you will need to implement the following:\n",
    "- Calculate the minimum, maximum, mean, median, and standard deviation of `'MEDV'`, which is stored in `prices`.\n",
    "  - Store each calculation in their respective variable."
   ]
  },
  {
   "cell_type": "code",
   "execution_count": 9,
   "metadata": {
    "collapsed": false
   },
   "outputs": [
    {
     "name": "stdout",
     "output_type": "stream",
     "text": [
      "      RM  LSTAT  PTRATIO\n",
      "0  6.575   4.98     15.3\n",
      "1  6.421   9.14     17.8\n",
      "2  7.185   4.03     17.8\n",
      "3  6.998   2.94     18.7\n",
      "4  7.147   5.33     18.7\n"
     ]
    }
   ],
   "source": [
    "print features.head()"
   ]
  },
  {
   "cell_type": "code",
   "execution_count": 10,
   "metadata": {
    "collapsed": false
   },
   "outputs": [
    {
     "name": "stdout",
     "output_type": "stream",
     "text": [
      "105000.0 1024800.0 454342.944785 438900.0 165171.131544\n"
     ]
    }
   ],
   "source": [
    "print np.amin(prices), np.amax(prices), np.mean(prices), np.median(prices), np.std(prices)"
   ]
  },
  {
   "cell_type": "code",
   "execution_count": 11,
   "metadata": {
    "collapsed": false
   },
   "outputs": [
    {
     "name": "stdout",
     "output_type": "stream",
     "text": [
      "Statistics for Boston housing dataset:\n",
      "\n",
      "Minimum price: $105,000.00\n",
      "Maximum price: $1,024,800.00\n",
      "Mean price: $454,342.94\n",
      "Median price $438,900.00\n",
      "Standard deviation of prices: $165,340.28\n"
     ]
    }
   ],
   "source": [
    "# TODO: Minimum price of the data\n",
    "minimum_price = 105000.0\n",
    "\n",
    "# TODO: Maximum price of the data\n",
    "maximum_price = 1024800.0\n",
    "\n",
    "# TODO: Mean price of the data\n",
    "mean_price = 454342.944785\n",
    "\n",
    "# TODO: Median price of the data\n",
    "median_price = 438900.0\n",
    "\n",
    "# TODO: Standard deviation of prices of the data\n",
    "std_price = 165340.277653\n",
    "\n",
    "# Show the calculated statistics\n",
    "print \"Statistics for Boston housing dataset:\\n\"\n",
    "print \"Minimum price: ${:,.2f}\".format(minimum_price)\n",
    "print \"Maximum price: ${:,.2f}\".format(maximum_price)\n",
    "print \"Mean price: ${:,.2f}\".format(mean_price)\n",
    "print \"Median price ${:,.2f}\".format(median_price)\n",
    "print \"Standard deviation of prices: ${:,.2f}\".format(std_price)"
   ]
  },
  {
   "cell_type": "markdown",
   "metadata": {},
   "source": [
    "Let's also look at the min and max of the features"
   ]
  },
  {
   "cell_type": "code",
   "execution_count": 12,
   "metadata": {
    "collapsed": false
   },
   "outputs": [
    {
     "name": "stdout",
     "output_type": "stream",
     "text": [
      "min and max for # of rooms:  3.561 8.398\n",
      "min and max for working class:  1.98 37.97\n",
      "min and max for student to teacher ratio:  12.6 37.97\n"
     ]
    }
   ],
   "source": [
    "print \"min and max for # of rooms: \", np.amin(data['RM']), np.amax(data['RM'])\n",
    "print \"min and max for working class: \",np.amin(data['LSTAT']), np.amax(data['LSTAT'])\n",
    "print \"min and max for student to teacher ratio: \",np.amin(data['PTRATIO']), np.amax(data['LSTAT'])"
   ]
  },
  {
   "cell_type": "markdown",
   "metadata": {},
   "source": [
    "### Question 1 - Feature Observation\n",
    "As a reminder, we are using three features from the Boston housing dataset: `'RM'`, `'LSTAT'`, and `'PTRATIO'`. For each data point (neighborhood):\n",
    "- `'RM'` is the average number of rooms among homes in the neighborhood.\n",
    "- `'LSTAT'` is the percentage of homeowners in the neighborhood considered \"lower class\" (working poor).\n",
    "- `'PTRATIO'` is the ratio of students to teachers in primary and secondary schools in the neighborhood.\n",
    "\n",
    "_Using your intuition, for each of the three features above, do you think that an increase in the value of that feature would lead to an **increase** in the value of `'MEDV'` or a **decrease** in the value of `'MEDV'`? Justify your answer for each._  \n",
    "**Hint:** Would you expect a home that has an `'RM'` value of 6 be worth more or less than a home that has an `'RM'` value of 7?"
   ]
  },
  {
   "cell_type": "markdown",
   "metadata": {},
   "source": [
    "**Answer**: From my intuition:\n",
    "    \n",
    "'Rm':  An increase in number of Rooms should also increase the target variable (increase in price), because home buyers prefer more space and more rooms.\n",
    "\n",
    "'LSTAT': An increase in \"% of lower class\" should inversely impact the target variable (decrease in price), because home buyers prefer to live in areas which have higher median house-hold income.  \n",
    "\n",
    "'PTRATIO': An increasein student to teacher ratio should inversely impact the target variable (decrease in price), because education is a big deciding factor for home buyers.  Home buyers prefer to have low student-to-teacher ratio so that teacher can more time with individual students, resulting in higher stduent test scores and school engagement."
   ]
  },
  {
   "cell_type": "markdown",
   "metadata": {},
   "source": [
    "----\n",
    "\n",
    "## Developing a Model\n",
    "In this second section of the project, you will develop the tools and techniques necessary for a model to make a prediction. Being able to make accurate evaluations of each model's performance through the use of these tools and techniques helps to greatly reinforce the confidence in your predictions."
   ]
  },
  {
   "cell_type": "markdown",
   "metadata": {},
   "source": [
    "### Implementation: Define a Performance Metric\n",
    "It is difficult to measure the quality of a given model without quantifying its performance over training and testing. This is typically done using some type of performance metric, whether it is through calculating some type of error, the goodness of fit, or some other useful measurement. For this project, you will be calculating the [*coefficient of determination*](http://stattrek.com/statistics/dictionary.aspx?definition=coefficient_of_determination), R<sup>2</sup>, to quantify your model's performance. The coefficient of determination for a model is a useful statistic in regression analysis, as it often describes how \"good\" that model is at making predictions. \n",
    "\n",
    "The values for R<sup>2</sup> range from 0 to 1, which captures the percentage of squared correlation between the predicted and actual values of the **target variable**. A model with an R<sup>2</sup> of 0 always fails to predict the target variable, whereas a model with an R<sup>2</sup> of 1 perfectly predicts the target variable. Any value between 0 and 1 indicates what percentage of the target variable, using this model, can be explained by the **features**. *A model can be given a negative R<sup>2</sup> as well, which indicates that the model is no better than one that naively predicts the mean of the target variable.*\n",
    "\n",
    "For the `performance_metric` function in the code cell below, you will need to implement the following:\n",
    "- Use `r2_score` from `sklearn.metrics` to perform a performance calculation between `y_true` and `y_predict`.\n",
    "- Assign the performance score to the `score` variable."
   ]
  },
  {
   "cell_type": "code",
   "execution_count": 13,
   "metadata": {
    "collapsed": false
   },
   "outputs": [],
   "source": [
    "# TODO: Import 'r2_score'\n",
    "from sklearn.metrics import r2_score\n",
    "\n",
    "def performance_metric(y_true, y_predict):\n",
    "    \"\"\" Calculates and returns the performance score between \n",
    "        true and predicted values based on the metric chosen. \"\"\"\n",
    "    \n",
    "    # TODO: Calculate the performance score between 'y_true' and 'y_predict'\n",
    "    score = r2_score(y_true, y_predict)\n",
    "    print score\n",
    "    \n",
    "    # Return the score\n",
    "    return score"
   ]
  },
  {
   "cell_type": "markdown",
   "metadata": {},
   "source": [
    "### Question 2 - Goodness of Fit\n",
    "Assume that a dataset contains five data points and a model made the following predictions for the target variable:\n",
    "\n",
    "| True Value | Prediction |\n",
    "| :-------------: | :--------: |\n",
    "| 3.0 | 2.5 |\n",
    "| -0.5 | 0.0 |\n",
    "| 2.0 | 2.1 |\n",
    "| 7.0 | 7.8 |\n",
    "| 4.2 | 5.3 |\n",
    "*Would you consider this model to have successfully captured the variation of the target variable? Why or why not?* \n",
    "\n",
    "Run the code cell below to use the `performance_metric` function and calculate this model's coefficient of determination."
   ]
  },
  {
   "cell_type": "code",
   "execution_count": 14,
   "metadata": {
    "collapsed": false
   },
   "outputs": [
    {
     "name": "stdout",
     "output_type": "stream",
     "text": [
      "0.922855648536\n",
      "Model has a coefficient of determination, R^2, of 0.923.\n"
     ]
    }
   ],
   "source": [
    "# Calculate the performance of this model\n",
    "score = performance_metric([3, -0.5, 2, 7, 4.2], [2.5, 0.0, 2.1, 7.8, 5.3])\n",
    "print \"Model has a coefficient of determination, R^2, of {:.3f}.\".format(score)"
   ]
  },
  {
   "cell_type": "markdown",
   "metadata": {},
   "source": [
    "**Answer:** The coefficient of determination measures how well the regression line approximate unseen data points.  \n",
    "\n",
    "An R^2 of 1 indicates the regression line perfectly fits the data.  In this case, the R^2 is 0.923, which indicates that the model is capturing the variation of the target variable well."
   ]
  },
  {
   "cell_type": "markdown",
   "metadata": {},
   "source": [
    "### Implementation: Shuffle and Split Data\n",
    "Your next implementation requires that you take the Boston housing dataset and split the data into training and testing subsets. Typically, the data is also shuffled into a random order when creating the training and testing subsets to remove any bias in the ordering of the dataset.\n",
    "\n",
    "For the code cell below, you will need to implement the following:\n",
    "- Use `train_test_split` from `sklearn.cross_validation` to shuffle and split the `features` and `prices` data into training and testing sets.\n",
    "  - Split the data into 80% training and 20% testing.\n",
    "  - Set the `random_state` for `train_test_split` to a value of your choice. This ensures results are consistent.\n",
    "- Assign the train and testing splits to `X_train`, `X_test`, `y_train`, and `y_test`."
   ]
  },
  {
   "cell_type": "code",
   "execution_count": 15,
   "metadata": {
    "collapsed": false
   },
   "outputs": [
    {
     "name": "stdout",
     "output_type": "stream",
     "text": [
      "Training and testing split was successful.\n"
     ]
    }
   ],
   "source": [
    "# TODO: Import 'train_test_split'\n",
    "from sklearn.cross_validation import train_test_split\n",
    "\n",
    "# TODO: Shuffle and split the data into training and testing subsets\n",
    "X_train, X_test, y_train, y_test = train_test_split(features, prices, test_size=0.2, random_state=42)\n",
    "\n",
    "# Success\n",
    "print \"Training and testing split was successful.\""
   ]
  },
  {
   "cell_type": "markdown",
   "metadata": {},
   "source": [
    "### Question 3 - Training and Testing\n",
    "*What is the benefit to splitting a dataset into some ratio of training and testing subsets for a learning algorithm?*  \n",
    "**Hint:** What could go wrong with not having a way to test your model?"
   ]
  },
  {
   "cell_type": "markdown",
   "metadata": {},
   "source": [
    "**Answer: ** The benefit of splitting a dataset into some ratio of training and testing subset is we can check and validate how our model does against \"new/unseen\" data.  \n",
    "\n",
    "If we did not test on new/unseen data, our model could suffer from over-fitting.  Over-fitting occurs when the model is too specific to the training data, and does not perform well on new/unseen data.  If we do not split training and testing data, we have no way to verify if our model is indeed overfitting."
   ]
  },
  {
   "cell_type": "markdown",
   "metadata": {},
   "source": [
    "----\n",
    "\n",
    "## Analyzing Model Performance\n",
    "In this third section of the project, you'll take a look at several models' learning and testing performances on various subsets of training data. Additionally, you'll investigate one particular algorithm with an increasing `'max_depth'` parameter on the full training set to observe how model complexity affects performance. Graphing your model's performance based on varying criteria can be beneficial in the analysis process, such as visualizing behavior that may not have been apparent from the results alone."
   ]
  },
  {
   "cell_type": "markdown",
   "metadata": {},
   "source": [
    "### Learning Curves\n",
    "The following code cell produces four graphs for a decision tree model with different maximum depths. Each graph visualizes the learning curves of the model for both training and testing as the size of the training set is increased. Note that the shaded region of a learning curve denotes the uncertainty of that curve (measured as the standard deviation). The model is scored on both the training and testing sets using R<sup>2</sup>, the coefficient of determination.  \n",
    "\n",
    "Run the code cell below and use these graphs to answer the following question."
   ]
  },
  {
   "cell_type": "code",
   "execution_count": 16,
   "metadata": {
    "collapsed": false,
    "scrolled": false
   },
   "outputs": [
    {
     "data": {
      "image/png": "[encoded data removed]",
      "text/plain": [
       "<matplotlib.figure.Figure at 0x103d0aad0>"
      ]
     },
     "metadata": {},
     "output_type": "display_data"
    }
   ],
   "source": [
    "# Produce learning curves for varying training set sizes and maximum depths\n",
    "vs.ModelLearning(features, prices)"
   ]
  },
  {
   "cell_type": "markdown",
   "metadata": {},
   "source": [
    "### Question 4 - Learning the Data\n",
    "*Choose one of the graphs above and state the maximum depth for the model. What happens to the score of the training curve as more training points are added? What about the testing curve? Would having more training points benefit the model?*  \n",
    "**Hint:** Are the learning curves converging to particular scores?"
   ]
  },
  {
   "cell_type": "markdown",
   "metadata": {},
   "source": [
    "**Answer: **\n",
    "max_depth of 3 shows that as more training points are added, the better it can predict on unseen data.  \n",
    "The training curve actually decreases as more data points are added.  The testing curve **improves** as more data points are available (**between 0 to 200**) and **flattens** as more data points become available (**200 to 350+**).\n",
    "\n",
    "Therefore, having more data points does **NOT** necessary benefit the model as both training and testing curves are converging to ~0.8.  We do NOT need more training points to have significant performnace improvement, as the curve already shows the performance flattens at 200+"
   ]
  },
  {
   "cell_type": "markdown",
   "metadata": {},
   "source": [
    "### Complexity Curves\n",
    "The following code cell produces a graph for a decision tree model that has been trained and validated on the training data using different maximum depths. The graph produces two complexity curves — one for training and one for validation. Similar to the **learning curves**, the shaded regions of both the complexity curves denote the uncertainty in those curves, and the model is scored on both the training and validation sets using the `performance_metric` function.  \n",
    "\n",
    "Run the code cell below and use this graph to answer the following two questions."
   ]
  },
  {
   "cell_type": "code",
   "execution_count": 17,
   "metadata": {
    "collapsed": false
   },
   "outputs": [
    {
     "data": {
      "image/png": "[encoded data removed]",
      "text/plain": [
       "<matplotlib.figure.Figure at 0x107b7e490>"
      ]
     },
     "metadata": {},
     "output_type": "display_data"
    }
   ],
   "source": [
    "vs.ModelComplexity(X_train, y_train)"
   ]
  },
  {
   "cell_type": "markdown",
   "metadata": {},
   "source": [
    "### Question 5 - Bias-Variance Tradeoff\n",
    "*When the model is trained with a maximum depth of 1, does the model suffer from high bias or from high variance? How about when the model is trained with a maximum depth of 10? What visual cues in the graph justify your conclusions?*  \n",
    "**Hint:** How do you know when a model is suffering from high bias or high variance?"
   ]
  },
  {
   "cell_type": "markdown",
   "metadata": {},
   "source": [
    "**Answer: ** \n",
    "When model is trained with max_depth of 1, it suffers from high bais (under-fitting).\n",
    "When the model is trainged with max_depth of 10, it suffers from high variance (over-fitting)\n",
    "You can see the very wide gap for max_depth of 10 since the model is not doing a good job of predicting unseen data (low score), while it does a good job with trained data(high score).\n",
    "Other the other hand, when the model is suffering from under-fitting, it does a poor job (low score) for both trained and unseen data, as in the case for max_depth of 1."
   ]
  },
  {
   "cell_type": "markdown",
   "metadata": {},
   "source": [
    "### Question 6 - Best-Guess Optimal Model\n",
    "*Which maximum depth do you think results in a model that best generalizes to unseen data? What intuition lead you to this answer?*"
   ]
  },
  {
   "cell_type": "markdown",
   "metadata": {},
   "source": [
    "**Answer: ** max_depth = 3 best generalizes the unseen data.  max_depth of 1 underfits the data and max_depth of 10 overfits the data.  max_depth of 6 overfits the data more than max_depth of 3 does as there's a wider gap between the training and test set.  Therefore, max_depth of 3 best generalizes the unseen data."
   ]
  },
  {
   "cell_type": "markdown",
   "metadata": {},
   "source": [
    "-----\n",
    "\n",
    "## Evaluating Model Performance\n",
    "In this final section of the project, you will construct a model and make a prediction on the client's feature set using an optimized model from `fit_model`."
   ]
  },
  {
   "cell_type": "markdown",
   "metadata": {},
   "source": [
    "### Question 7 - Grid Search\n",
    "*What is the grid search technique and how it can be applied to optimize a learning algorithm?*"
   ]
  },
  {
   "cell_type": "markdown",
   "metadata": {},
   "source": [
    "**Answer: ** Grid search is a cross-validation technique which uses different parameters in training the model, and select the one with best result.  The diffrent combinations of parameters is specififed in a grid.  \n",
    "\n",
    "This can then be applied to optimize a learning algorithm"
   ]
  },
  {
   "cell_type": "markdown",
   "metadata": {},
   "source": [
    "### Question 8 - Cross-Validation\n",
    "*What is the k-fold cross-validation training technique? What benefit does this technique provide for grid search when optimizing a model?*  \n",
    "**Hint:** Much like the reasoning behind having a testing set, what could go wrong with using grid search without a cross-validated set?"
   ]
  },
  {
   "cell_type": "markdown",
   "metadata": {},
   "source": [
    "**Answer: **\n",
    "k-fold cross-validation is used in hyperparameter tuning.  In k-fold CV, the dataset is split into k subset, 1 for validation, and k-1 for training.  Then grid search will fit and predict new data for each fold.  \n",
    "\n",
    "Without using a cross-validated set, over-fitting could easily occur, since all the data is used for training.\n",
    "\n",
    "**What is k-fold validation?**\n",
    "k-fold validation is a cross-validation method to verify how the model will perform on new data, and at the same time trying to decrease variance as much as possible.\n",
    "\n",
    "**How does k-fold run the k-experiment?**(How many times would it run and run on which dataset to achieve the result?)\n",
    "It runs k # of times, where each time, one subset would be the test set, and k-1 would be training set.\n",
    "Each subset would take turn to become a test set.  As the # of k increases, the variance decreases since the data is more varied \n",
    "\n",
    "**How does k-fold achieve best result?**\n",
    "Average the performances of each run"
   ]
  },
  {
   "cell_type": "markdown",
   "metadata": {},
   "source": [
    "### Implementation: Fitting a Model\n",
    "Your final implementation requires that you bring everything together and train a model using the **decision tree algorithm**. To ensure that you are producing an optimized model, you will train the model using the grid search technique to optimize the `'max_depth'` parameter for the decision tree. The `'max_depth'` parameter can be thought of as how many questions the decision tree algorithm is allowed to ask about the data before making a prediction. Decision trees are part of a class of algorithms called *supervised learning algorithms*.\n",
    "\n",
    "For the `fit_model` function in the code cell below, you will need to implement the following:\n",
    "- Use [`DecisionTreeRegressor`](http://scikit-learn.org/stable/modules/generated/sklearn.tree.DecisionTreeRegressor.html) from `sklearn.tree` to create a decision tree regressor object.\n",
    "  - Assign this object to the `'regressor'` variable.\n",
    "- Create a dictionary for `'max_depth'` with the values from 1 to 10, and assign this to the `'params'` variable.\n",
    "- Use [`make_scorer`](http://scikit-learn.org/stable/modules/generated/sklearn.metrics.make_scorer.html) from `sklearn.metrics` to create a scoring function object.\n",
    "  - Pass the `performance_metric` function as a parameter to the object.\n",
    "  - Assign this scoring function to the `'scoring_fnc'` variable.\n",
    "- Use [`GridSearchCV`](http://scikit-learn.org/0.17/modules/generated/sklearn.grid_search.GridSearchCV.html) from `sklearn.grid_search` to create a grid search object.\n",
    "  - Pass the variables `'regressor'`, `'params'`, `'scoring_fnc'`, and `'cv_sets'` as parameters to the object. \n",
    "  - Assign the `GridSearchCV` object to the `'grid'` variable."
   ]
  },
  {
   "cell_type": "code",
   "execution_count": 18,
   "metadata": {
    "collapsed": false
   },
   "outputs": [],
   "source": [
    "# TODO: Import 'make_scorer', 'DecisionTreeRegressor', and 'GridSearchCV'\n",
    "from sklearn.tree import DecisionTreeRegressor\n",
    "from sklearn import grid_search\n",
    "from sklearn.metrics import make_scorer\n",
    "\n",
    "def fit_model(X, y):\n",
    "    \"\"\" Performs grid search over the 'max_depth' parameter for a \n",
    "        decision tree regressor trained on the input data [X, y]. \"\"\"\n",
    "    \n",
    "    # Create cross-validation sets from the training data\n",
    "    cv_sets = ShuffleSplit(X.shape[0], n_iter = 10, test_size = 0.20, random_state = 0)\n",
    "\n",
    "    # TODO: Create a decision tree regressor object\n",
    "    regressor = DecisionTreeRegressor(max_depth=2)\n",
    "\n",
    "    # TODO: Create a dictionary for the parameter 'max_depth' with a range from 1 to 10\n",
    "    params = {'max_depth':range(1,11)}\n",
    "\n",
    "    # TODO: Transform 'performance_metric' into a scoring function using 'make_scorer' \n",
    "    scoring_fnc = make_scorer(performance_metric)\n",
    "\n",
    "    # TODO: Create the grid search object\n",
    "    # Pass the variables 'regressor', 'params', 'scoring_fnc', and 'cv_sets' as parameters to the object.\n",
    "    grid = grid_search.GridSearchCV(regressor, params, scoring_fnc, cv_sets)\n",
    "\n",
    "    # Fit the grid search object to the data to compute the optimal model\n",
    "    grid = grid.fit(X, y)\n",
    "\n",
    "    # Return the optimal model after fitting the data\n",
    "    return grid.best_estimator_"
   ]
  },
  {
   "cell_type": "markdown",
   "metadata": {},
   "source": [
    "### Making Predictions\n",
    "Once a model has been trained on a given set of data, it can now be used to make predictions on new sets of input data. In the case of a *decision tree regressor*, the model has learned *what the best questions to ask about the input data are*, and can respond with a prediction for the **target variable**. You can use these predictions to gain information about data where the value of the target variable is unknown — such as data the model was not trained on."
   ]
  },
  {
   "cell_type": "markdown",
   "metadata": {},
   "source": [
    "### Question 9 - Optimal Model\n",
    "_What maximum depth does the optimal model have? How does this result compare to your guess in **Question 6**?_  \n",
    "\n",
    "Run the code block below to fit the decision tree regressor to the training data and produce an optimal model."
   ]
  },
  {
   "cell_type": "code",
   "execution_count": 19,
   "metadata": {
    "collapsed": false,
    "scrolled": true
   },
   "outputs": [
    {
     "name": "stdout",
     "output_type": "stream",
     "text": [
      "0.315177706971\n",
      "0.463863464234\n",
      "0.422830345635\n",
      "0.535967262185\n",
      "0.662942552337\n",
      "0.639266559999\n",
      "0.71452047347\n",
      "0.773773710302\n",
      "0.789064111275\n",
      "0.737387774196\n",
      "0.780266215757\n",
      "0.831830844183\n",
      "0.701752905792\n",
      "0.769463087894\n",
      "0.802490598163\n",
      "0.695771861812\n",
      "0.745763388642\n",
      "0.753365661078\n",
      "0.687186369851\n",
      "0.726005582125\n",
      "0.725351905275\n",
      "0.749618156501\n",
      "0.743123328016\n",
      "0.738345459919\n",
      "0.74023393999\n",
      "0.717743151936\n",
      "0.738977794806\n",
      "0.721707886367\n",
      "0.741029883339\n",
      "0.75001630883\n",
      "Parameter 'max_depth' is 4 for the optimal model.\n"
     ]
    }
   ],
   "source": [
    "# Fit the training data to the model using grid search\n",
    "reg = fit_model(X_train, y_train)\n",
    "\n",
    "# Produce the value for 'max_depth'\n",
    "print \"Parameter 'max_depth' is {} for the optimal model.\".format(reg.get_params()['max_depth'])"
   ]
  },
  {
   "cell_type": "markdown",
   "metadata": {},
   "source": [
    "**Answer: **  Maximum depth is 4 for the optimal model. "
   ]
  },
  {
   "cell_type": "markdown",
   "metadata": {},
   "source": [
    "### Question 10 - Predicting Selling Prices\n",
    "Imagine that you were a real estate agent in the Boston area looking to use this model to help price homes owned by your clients that they wish to sell. You have collected the following information from three of your clients:\n",
    "\n",
    "| Feature | Client 1 | Client 2 | Client 3 |\n",
    "| :---: | :---: | :---: | :---: |\n",
    "| Total number of rooms in home | 5 rooms | 4 rooms | 8 rooms |\n",
    "| Neighborhood poverty level (as %) | 17% | 32% | 3% |\n",
    "| Student-teacher ratio of nearby schools | 15-to-1 | 22-to-1 | 12-to-1 |\n",
    "*What price would you recommend each client sell his/her home at? Do these prices seem reasonable given the values for the respective features?*  \n",
    "**Hint:** Use the statistics you calculated in the **Data Exploration** section to help justify your response.  \n",
    "\n",
    "Run the code block below to have your optimized model make predictions for each client's home."
   ]
  },
  {
   "cell_type": "code",
   "execution_count": 20,
   "metadata": {
    "collapsed": false
   },
   "outputs": [
    {
     "name": "stdout",
     "output_type": "stream",
     "text": [
      "Predicted selling price for Client 1's home: $403,025.00\n",
      "Predicted selling price for Client 2's home: $237,478.72\n",
      "Predicted selling price for Client 3's home: $931,636.36\n"
     ]
    }
   ],
   "source": [
    "# Produce a matrix for client data\n",
    "client_data = [[5, 17, 15], # Client 1\n",
    "               [4, 32, 22], # Client 2\n",
    "               [8, 3, 12]]  # Client 3\n",
    "\n",
    "# Show predictions\n",
    "for i, price in enumerate(reg.predict(client_data)):\n",
    "    print \"Predicted selling price for Client {}'s home: ${:,.2f}\".format(i+1, price)"
   ]
  },
  {
   "cell_type": "markdown",
   "metadata": {},
   "source": [
    "**Answer: **\n",
    "These prices are reasonable given the values for the respective features.  Let's look at each home\n",
    "Client 2's home:  Given that it has the fewest number of home out of the three, having the highest poverty level, and highest student-teach ratio, it makes sense that it has the lowest selling price out of the three.\n",
    "\n",
    "For Client 3's home:  This one has the most number of rooms, lowest student to teacher ratio, lowest poverty ratio.  It make sense that it asks for the highest selling price out of the three.  \n",
    "\n",
    "For Client 1's home:  # of rooms, poverty and student/teacher ratio are all in the middle of the 3 homes.  Therefore, it makes sense that it's asking price is also between the other two homes."
   ]
  },
  {
   "cell_type": "markdown",
   "metadata": {},
   "source": [
    "### Sensitivity\n",
    "An optimal model is not necessarily a robust model. Sometimes, a model is either too complex or too simple to sufficiently generalize to new data. Sometimes, a model could use a learning algorithm that is not appropriate for the structure of the data given. Other times, the data itself could be too noisy or contain too few samples to allow a model to adequately capture the target variable — i.e., the model is underfitted. Run the code cell below to run the `fit_model` function ten times with different training and testing sets to see how the prediction for a specific client changes with the data it's trained on."
   ]
  },
  {
   "cell_type": "code",
   "execution_count": 21,
   "metadata": {
    "collapsed": false
   },
   "outputs": [
    {
     "name": "stdout",
     "output_type": "stream",
     "text": [
      "0.296395704806\n",
      "0.406028089559\n",
      "0.382860656793\n",
      "0.578815100042\n",
      "0.698434642122\n",
      "0.608684739636\n",
      "0.733142901988\n",
      "0.788917310873\n",
      "0.730748185834\n",
      "0.75020342581\n",
      "0.770233267546\n",
      "0.762858588665\n",
      "0.691001033653\n",
      "0.782395298532\n",
      "0.76467564979\n",
      "0.660054916051\n",
      "0.784383862456\n",
      "0.76337147402\n",
      "0.772194517579\n",
      "0.782434301872\n",
      "0.739651996758\n",
      "0.650401492619\n",
      "0.752752274001\n",
      "0.745225756238\n",
      "0.671418151886\n",
      "0.745457164837\n",
      "0.729180703349\n",
      "0.643363664467\n",
      "0.742126573362\n",
      "0.718929515328\n",
      "Trial 1: $409,500.00\n",
      "0.251490075832\n",
      "0.406521768931\n",
      "0.412004218022\n",
      "0.569755740846\n",
      "0.705816198048\n",
      "0.656443427009\n",
      "0.703073369848\n",
      "0.811798052738\n",
      "0.788190923669\n",
      "0.751565503021\n",
      "0.832965982046\n",
      "0.796984185736\n",
      "0.712167748185\n",
      "0.820209280956\n",
      "0.776538359745\n",
      "0.733649652651\n",
      "0.804583414723\n",
      "0.772018839118\n",
      "0.731681982494\n",
      "0.790151205594\n",
      "0.771507492721\n",
      "0.720301172849\n",
      "0.788275264277\n",
      "0.707025251265\n",
      "0.697395539261\n",
      "0.783416136361\n",
      "0.695066696854\n",
      "0.709227944133\n",
      "0.773443411757\n",
      "0.661234979401\n",
      "Trial 2: $411,417.39\n",
      "0.384414821334\n",
      "0.404970636066\n",
      "0.391495230363\n",
      "0.658887920313\n",
      "0.714994840079\n",
      "0.492506781657\n",
      "0.746470558814\n",
      "0.792188290075\n",
      "0.700229709829\n",
      "0.797599711327\n",
      "0.769851959258\n",
      "0.760044565914\n",
      "0.767953717453\n",
      "0.773253894326\n",
      "0.756373952931\n",
      "0.750657718448\n",
      "0.731807958124\n",
      "0.762537913871\n",
      "0.711306215816\n",
      "0.705179408913\n",
      "0.762456488075\n",
      "0.699258280205\n",
      "0.693064374952\n",
      "0.710528241834\n",
      "0.69702860117\n",
      "0.674841335173\n",
      "0.721421617689\n",
      "0.731384186674\n",
      "0.654343587783\n",
      "0.685209423247\n",
      "Trial 3: $415,800.00\n",
      "0.371160286241\n",
      "0.379420322007\n",
      "0.415323787854\n",
      "0.61319179751\n",
      "0.722223422997\n",
      "0.646723432341\n",
      "0.680373146541\n",
      "0.818152628498\n",
      "0.735500348471\n",
      "0.734178246683\n",
      "0.832756239459\n",
      "0.763856326051\n",
      "0.724443302954\n",
      "0.841510255154\n",
      "0.767451259215\n",
      "0.715187269559\n",
      "0.835536191852\n",
      "0.764940033513\n",
      "0.709058102404\n",
      "0.80432315126\n",
      "0.778404398805\n",
      "0.717918474043\n",
      "0.781218014631\n",
      "0.753719506562\n",
      "0.700441031314\n",
      "0.789877396505\n",
      "0.719793993236\n",
      "0.673428957157\n",
      "0.797220246067\n",
      "0.731279368457\n",
      "Trial 4: $428,316.00\n",
      "0.394071144057\n",
      "0.296416207675\n",
      "0.394038211979\n",
      "0.680132471967\n",
      "0.553998439856\n",
      "0.69078352934\n",
      "0.794153750484\n",
      "0.686859945841\n",
      "0.799205494442\n",
      "0.828008878044\n",
      "0.725296911762\n",
      "0.815909931447\n",
      "0.798867235235\n",
      "0.701516397138\n",
      "0.794212383372\n",
      "0.813060455763\n",
      "0.709011794737\n",
      "0.765582239161\n",
      "0.803577162249\n",
      "0.684069449949\n",
      "0.74999468475\n",
      "0.765177029831\n",
      "0.63708261926\n",
      "0.718576693982\n",
      "0.763443007778\n",
      "0.619339993372\n",
      "0.733751066924\n",
      "0.767021538501\n",
      "0.629997974578\n",
      "0.736578070146\n",
      "Trial 5: $413,334.78\n",
      "0.211997380919\n",
      "0.445694840887\n",
      "0.416016999389\n",
      "0.564597903868\n",
      "0.716713765237\n",
      "0.638089641936\n",
      "0.741408039508\n",
      "0.74786934259\n",
      "0.746316301989\n",
      "0.791534249424\n",
      "0.781703472455\n",
      "0.773972296443\n",
      "0.704321024071\n",
      "0.767999827992\n",
      "0.757508949459\n",
      "0.759337304884\n",
      "0.768396920576\n",
      "0.749210257463\n",
      "0.689838025285\n",
      "0.750507914153\n",
      "0.751328000069\n",
      "0.679100077623\n",
      "0.755340607836\n",
      "0.748562362192\n",
      "0.701767979076\n",
      "0.736020078934\n",
      "0.738251706266\n",
      "0.628494663925\n",
      "0.724409610775\n",
      "0.733580680945\n",
      "Trial 6: $411,931.58\n",
      "0.37601184254\n",
      "0.390966788976\n",
      "0.27242307583\n",
      "0.644403518436\n",
      "0.683336229599\n",
      "0.600343810308\n",
      "0.780364875749\n",
      "0.780113071052\n",
      "0.682225928023\n",
      "0.764283578804\n",
      "0.791188368204\n",
      "0.745039778079\n",
      "0.725054517493\n",
      "0.777404530295\n",
      "0.746247415686\n",
      "0.7028283\n",
      "0.751946719084\n",
      "0.70617287829\n",
      "0.673448415862\n",
      "0.720446097571\n",
      "0.711877839456\n",
      "0.657514368401\n",
      "0.705798677372\n",
      "0.669819519807\n",
      "0.646939099197\n",
      "0.712898622275\n",
      "0.647424736423\n",
      "0.649139791545\n",
      "0.698060770069\n",
      "0.660244949825\n",
      "Trial 7: $399,663.16\n",
      "0.432056476273\n",
      "0.332891623988\n",
      "0.38653226748\n",
      "0.682969018379\n",
      "0.637979485683\n",
      "0.707019534565\n",
      "0.752752410852\n",
      "0.740762739787\n",
      "0.797099179087\n",
      "0.782345612195\n",
      "0.747331831059\n",
      "0.792859934444\n",
      "0.761568379141\n",
      "0.719563410591\n",
      "0.786616404995\n",
      "0.739363738424\n",
      "0.717254821299\n",
      "0.807539924437\n",
      "0.713209078034\n",
      "0.642578660667\n",
      "0.785371946979\n",
      "0.703962544479\n",
      "0.661386217382\n",
      "0.751148385984\n",
      "0.712003362531\n",
      "0.651550028333\n",
      "0.749474858069\n",
      "0.709874018174\n",
      "0.609427712474\n",
      "0.706704509081\n",
      "Trial 8: $407,232.00\n",
      "0.350691573918\n",
      "0.451847188047\n",
      "0.34158003922\n",
      "0.666529921335\n",
      "0.655222418397\n",
      "0.670375370142\n",
      "0.7634492151\n",
      "0.760319280744\n",
      "0.752097924235\n",
      "0.739507603587\n",
      "0.795463399884\n",
      "0.780591153218\n",
      "0.724437787175\n",
      "0.699283022988\n",
      "0.761953676153\n",
      "0.665285474522\n",
      "0.653786458511\n",
      "0.767329798802\n",
      "0.653901923114\n",
      "0.623124452904\n",
      "0.731318028596\n",
      "0.625267381878\n",
      "0.656672906483\n",
      "0.733738283601\n",
      "0.616512471959\n",
      "0.654183648495\n",
      "0.750574839718\n",
      "0.615168815345\n",
      "0.603695010906\n",
      "0.739567585822\n",
      "Trial 9: $402,531.82\n",
      "0.41820968753\n",
      "0.249511281972\n",
      "0.378477808364\n",
      "0.638857584311\n",
      "0.669895452514\n",
      "0.674279866001\n",
      "0.709403421628\n",
      "0.765498276349\n",
      "0.79241117139\n",
      "0.779498179324\n",
      "0.791087778427\n",
      "0.801581660268\n",
      "0.78111715121\n",
      "0.754293583695\n",
      "0.803574195019\n",
      "0.748598629671\n",
      "0.730312155522\n",
      "0.799851767594\n",
      "0.736114899934\n",
      "0.709613825746\n",
      "0.782327866109\n",
      "0.700431271374\n",
      "0.695050448266\n",
      "0.764487700374\n",
      "0.730434283895\n",
      "0.668212149821\n",
      "0.73818230396\n",
      "0.561759467093\n",
      "0.680770044506\n",
      "0.743091187034\n",
      "Trial 10: $413,700.00\n",
      "\n",
      "Range in prices: $28,652.84\n"
     ]
    }
   ],
   "source": [
    "vs.PredictTrials(features, prices, fit_model, client_data)"
   ]
  },
  {
   "cell_type": "markdown",
   "metadata": {},
   "source": [
    "### Question 11 - Applicability\n",
    "*In a few sentences, discuss whether the constructed model should or should not be used in a real-world setting.*  \n",
    "**Hint:** Some questions to answering:\n",
    "- *How relevant today is data that was collected from 1978?*\n",
    "- *Are the features present in the data sufficient to describe a home?*\n",
    "- *Is the model robust enough to make consistent predictions?*\n",
    "- *Would data collected in an urban city like Boston be applicable in a rural city?*"
   ]
  },
  {
   "cell_type": "markdown",
   "metadata": {},
   "source": [
    "**Answer: **\n",
    "1.  I believe it is relevant becausehte fundamental of the features has not changed.  Home buyers still preferhigher number of rooms, low student to teacher ratio, low-poverty in neighborhood.  Therefore, these features remain to be relevant/important in determining home prices, even in today's market.\n",
    "2.  Though these are important features, they are not sufficient to describe a home yet.  Other important info including lot size, year built are missing.\n",
    "3.  robustness.  The range in prices after 10 trial runs is $37,132.67.  The lower the variability in price predictions, the more robust the model is.  In our case, it's approximately 37000/400000 ~ 9%.  9% is too high of a price for seller to suffer.  Therefore, our model is not robust enough and needs to be improved.\n",
    "4.  Data collected in an urban city would NOT be applicable in a rural city.  For rural city, a different set of features could be more important.  Therefore, data collected in an urban city would not be applicable in a rural city"
   ]
  },
  {
   "cell_type": "markdown",
   "metadata": {},
   "source": [
    "> **Note**: Once you have completed all of the code implementations and successfully answered each question above, you may finalize your work by exporting the iPython Notebook as an HTML document. You can do this by using the menu above and navigating to  \n",
    "**File -> Download as -> HTML (.html)**. Include the finished document along with this notebook as your submission."
   ]
  }
 ],
 "metadata": {
  "kernelspec": {
   "display_name": "Python 2",
   "language": "python",
   "name": "python2"
  },
  "language_info": {
   "codemirror_mode": {
    "name": "ipython",
    "version": 2
   },
   "file_extension": ".py",
   "mimetype": "text/x-python",
   "name": "python",
   "nbconvert_exporter": "python",
   "pygments_lexer": "ipython2",
   "version": "2.7.10"
  }
 },
 "nbformat": 4,
 "nbformat_minor": 0
}
