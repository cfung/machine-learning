{
 "cells": [
  {
   "cell_type": "code",
   "execution_count": 2,
   "metadata": {
    "collapsed": true
   },
   "outputs": [],
   "source": [
    "import pandas as pd\n",
    "import os"
   ]
  },
  {
   "cell_type": "code",
   "execution_count": 3,
   "metadata": {
    "collapsed": false
   },
   "outputs": [
    {
     "name": "stdout",
     "output_type": "stream",
     "text": [
      "<class 'pandas.core.frame.DataFrame'>\n",
      "RangeIndex: 9060 entries, 0 to 9059\n",
      "Data columns (total 3 columns):\n",
      "id           9060 non-null object\n",
      "sentiment    9060 non-null int64\n",
      "review       9060 non-null object\n",
      "dtypes: int64(1), object(2)\n",
      "memory usage: 212.4+ KB\n"
     ]
    }
   ],
   "source": [
    "train_movie_data = pd.read_csv('labeledTrainData.tsv', header=0, sep='\\t')\n",
    "train_movie_data.info()"
   ]
  },
  {
   "cell_type": "code",
   "execution_count": 4,
   "metadata": {
    "collapsed": false
   },
   "outputs": [
    {
     "data": {
      "text/html": [
       "<div>\n",
       "<table border=\"1\" class=\"dataframe\">\n",
       "  <thead>\n",
       "    <tr style=\"text-align: right;\">\n",
       "      <th></th>\n",
       "      <th>id</th>\n",
       "      <th>sentiment</th>\n",
       "      <th>review</th>\n",
       "    </tr>\n",
       "  </thead>\n",
       "  <tbody>\n",
       "    <tr>\n",
       "      <th>0</th>\n",
       "      <td>5814_8</td>\n",
       "      <td>1</td>\n",
       "      <td>With all this stuff going down at the moment w...</td>\n",
       "    </tr>\n",
       "    <tr>\n",
       "      <th>1</th>\n",
       "      <td>2381_9</td>\n",
       "      <td>1</td>\n",
       "      <td>\\The Classic War of the Worlds\\\" by Timothy Hi...</td>\n",
       "    </tr>\n",
       "    <tr>\n",
       "      <th>2</th>\n",
       "      <td>7759_3</td>\n",
       "      <td>0</td>\n",
       "      <td>The film starts with a manager (Nicholas Bell)...</td>\n",
       "    </tr>\n",
       "    <tr>\n",
       "      <th>3</th>\n",
       "      <td>3630_4</td>\n",
       "      <td>0</td>\n",
       "      <td>It must be assumed that those who praised this...</td>\n",
       "    </tr>\n",
       "    <tr>\n",
       "      <th>4</th>\n",
       "      <td>9495_8</td>\n",
       "      <td>1</td>\n",
       "      <td>Superbly trashy and wondrously unpretentious 8...</td>\n",
       "    </tr>\n",
       "  </tbody>\n",
       "</table>\n",
       "</div>"
      ],
      "text/plain": [
       "       id  sentiment                                             review\n",
       "0  5814_8          1  With all this stuff going down at the moment w...\n",
       "1  2381_9          1  \\The Classic War of the Worlds\\\" by Timothy Hi...\n",
       "2  7759_3          0  The film starts with a manager (Nicholas Bell)...\n",
       "3  3630_4          0  It must be assumed that those who praised this...\n",
       "4  9495_8          1  Superbly trashy and wondrously unpretentious 8..."
      ]
     },
     "execution_count": 4,
     "metadata": {},
     "output_type": "execute_result"
    }
   ],
   "source": [
    "train_movie_data.head()"
   ]
  },
  {
   "cell_type": "code",
   "execution_count": 5,
   "metadata": {
    "collapsed": false
   },
   "outputs": [
    {
     "data": {
      "text/plain": [
       "(9060, 3)"
      ]
     },
     "execution_count": 5,
     "metadata": {},
     "output_type": "execute_result"
    }
   ],
   "source": [
    "train_movie_data.shape"
   ]
  },
  {
   "cell_type": "code",
   "execution_count": 6,
   "metadata": {
    "collapsed": false
   },
   "outputs": [
    {
     "data": {
      "image/png": "[encoded data removed]",
      "text/plain": [
       "<matplotlib.figure.Figure at 0x10ba399d0>"
      ]
     },
     "metadata": {},
     "output_type": "display_data"
    }
   ],
   "source": [
    "import matplotlib.pyplot as plt\n",
    "\n",
    "plt.hist(train_movie_data['sentiment'], range=(0, 1))\n",
    "plt.title(\"Sentiment Analysis\")\n",
    "plt.xlabel(\"Positive or Negative\")\n",
    "plt.ylabel(\"Number of Reviews\")\n",
    "plt.show()"
   ]
  },
  {
   "cell_type": "markdown",
   "metadata": {},
   "source": [
    "<h2>In the following section we'll be performing data cleaning and preprocessing</h2>"
   ]
  },
  {
   "cell_type": "code",
   "execution_count": 7,
   "metadata": {
    "collapsed": true
   },
   "outputs": [],
   "source": [
    "from bs4 import BeautifulSoup # use BeautifulSoup to parse the text"
   ]
  },
  {
   "cell_type": "code",
   "execution_count": 8,
   "metadata": {
    "collapsed": false
   },
   "outputs": [
    {
     "data": {
      "text/plain": [
       "u\"With all this stuff going down at the moment with MJ i've started listening to his music, watching the odd documentary here and there, watched The Wiz and watched Moonwalker again. Maybe i just want to get a certain insight into this guy who i thought was really cool in the eighties just to maybe make up my mind whether he is guilty or innocent. Moonwalker is part biography, part feature film which i remember going to see at the cinema when it was originally released. Some of it has subtle messages about MJ's feeling towards the press and also the obvious message of drugs are bad m'kay.Visually impressive but of course this is all about Michael Jackson so unless you remotely like MJ in anyway then you are going to hate this and find it boring. Some may call MJ an egotist for consenting to the making of this movie BUT MJ and most of his fans would say that he made it for the fans which if true is really nice of him.The actual feature film bit when it finally starts is only on for 20 minutes or so excluding the Smooth Criminal sequence and Joe Pesci is convincing as a psychopathic all powerful drug lord. Why he wants MJ dead so bad is beyond me. Because MJ overheard his plans? Nah, Joe Pesci's character ranted that he wanted people to know it is he who is supplying drugs etc so i dunno, maybe he just hates MJ's music.Lots of cool things in this like MJ turning into a car and a robot and the whole Speed Demon sequence. Also, the director must have had the patience of a saint when it came to filming the kiddy Bad sequence as usually directors hate working with one kid let alone a whole bunch of them performing a complex dance scene.Bottom line, this movie is for people who like MJ on one level or another (which i think is most people). If not, then stay away. It does try and give off a wholesome message and ironically MJ's bestest buddy in this movie is a girl! Michael Jackson is truly one of the most talented people ever to grace this planet but is he guilty? Well, with all the attention i've gave this subject....hmmm well i don't know because people can be different behind closed doors, i know this for a fact. He is either an extremely nice but stupid guy or one of the most sickest liars. I hope he is not the latter.\""
      ]
     },
     "execution_count": 8,
     "metadata": {},
     "output_type": "execute_result"
    }
   ],
   "source": [
    "train_movie_data['review_bs'] = train_movie_data['review'].apply(lambda x: BeautifulSoup(x, 'html.parser'))\n",
    "\n",
    "train_movie_data.review_bs[0].get_text() #== \n",
    "#print \"2nd..\", train_movie_data['review'][0]\n",
    "#assert str(review1.get_text()) == str(train_movie_data['review'][0])\n",
    " "
   ]
  },
  {
   "cell_type": "markdown",
   "metadata": {},
   "source": [
    "<b>remove numbers and puntuations</b>"
   ]
  },
  {
   "cell_type": "code",
   "execution_count": 9,
   "metadata": {
    "collapsed": false
   },
   "outputs": [
    {
     "data": {
      "text/plain": [
       "u'With all this stuff going down at the moment with MJ i ve started listening to his music  watching the odd documentary here and there  watched The Wiz and watched Moonwalker again  Maybe i just want to get a certain insight into this guy who i thought was really cool in the eighties just to maybe make up my mind whether he is guilty or innocent  Moonwalker is part biography  part feature film which i remember going to see at the cinema when it was originally released  Some of it has subtle messages about MJ s feeling towards the press and also the obvious message of drugs are bad m kay Visually impressive but of course this is all about Michael Jackson so unless you remotely like MJ in anyway then you are going to hate this and find it boring  Some may call MJ an egotist for consenting to the making of this movie BUT MJ and most of his fans would say that he made it for the fans which if true is really nice of him The actual feature film bit when it finally starts is only on for    minutes or so excluding the Smooth Criminal sequence and Joe Pesci is convincing as a psychopathic all powerful drug lord  Why he wants MJ dead so bad is beyond me  Because MJ overheard his plans  Nah  Joe Pesci s character ranted that he wanted people to know it is he who is supplying drugs etc so i dunno  maybe he just hates MJ s music Lots of cool things in this like MJ turning into a car and a robot and the whole Speed Demon sequence  Also  the director must have had the patience of a saint when it came to filming the kiddy Bad sequence as usually directors hate working with one kid let alone a whole bunch of them performing a complex dance scene Bottom line  this movie is for people who like MJ on one level or another  which i think is most people   If not  then stay away  It does try and give off a wholesome message and ironically MJ s bestest buddy in this movie is a girl  Michael Jackson is truly one of the most talented people ever to grace this planet but is he guilty  Well  with all the attention i ve gave this subject    hmmm well i don t know because people can be different behind closed doors  i know this for a fact  He is either an extremely nice but stupid guy or one of the most sickest liars  I hope he is not the latter '"
      ]
     },
     "execution_count": 9,
     "metadata": {},
     "output_type": "execute_result"
    }
   ],
   "source": [
    "import re\n",
    "train_movie_data['modified_review1'] = train_movie_data['review_bs'].apply(lambda x: re.sub(r'[^a-zA-Z]', ' ', x.get_text()))\n",
    "train_movie_data['modified_review1'][0]"
   ]
  },
  {
   "cell_type": "code",
   "execution_count": 10,
   "metadata": {
    "collapsed": true
   },
   "outputs": [],
   "source": [
    "train_movie_data['review_words'] = train_movie_data['modified_review1'].apply(lambda x: x.lower().split())"
   ]
  },
  {
   "cell_type": "code",
   "execution_count": 11,
   "metadata": {
    "collapsed": false
   },
   "outputs": [
    {
     "data": {
      "text/plain": [
       "[u'with',\n",
       " u'all',\n",
       " u'this',\n",
       " u'stuff',\n",
       " u'going',\n",
       " u'down',\n",
       " u'at',\n",
       " u'the',\n",
       " u'moment',\n",
       " u'with',\n",
       " u'mj',\n",
       " u'i',\n",
       " u've',\n",
       " u'started',\n",
       " u'listening',\n",
       " u'to',\n",
       " u'his',\n",
       " u'music',\n",
       " u'watching',\n",
       " u'the',\n",
       " u'odd',\n",
       " u'documentary',\n",
       " u'here',\n",
       " u'and',\n",
       " u'there',\n",
       " u'watched',\n",
       " u'the',\n",
       " u'wiz',\n",
       " u'and',\n",
       " u'watched',\n",
       " u'moonwalker',\n",
       " u'again',\n",
       " u'maybe',\n",
       " u'i',\n",
       " u'just',\n",
       " u'want',\n",
       " u'to',\n",
       " u'get',\n",
       " u'a',\n",
       " u'certain',\n",
       " u'insight',\n",
       " u'into',\n",
       " u'this',\n",
       " u'guy',\n",
       " u'who',\n",
       " u'i',\n",
       " u'thought',\n",
       " u'was',\n",
       " u'really',\n",
       " u'cool',\n",
       " u'in',\n",
       " u'the',\n",
       " u'eighties',\n",
       " u'just',\n",
       " u'to',\n",
       " u'maybe',\n",
       " u'make',\n",
       " u'up',\n",
       " u'my',\n",
       " u'mind',\n",
       " u'whether',\n",
       " u'he',\n",
       " u'is',\n",
       " u'guilty',\n",
       " u'or',\n",
       " u'innocent',\n",
       " u'moonwalker',\n",
       " u'is',\n",
       " u'part',\n",
       " u'biography',\n",
       " u'part',\n",
       " u'feature',\n",
       " u'film',\n",
       " u'which',\n",
       " u'i',\n",
       " u'remember',\n",
       " u'going',\n",
       " u'to',\n",
       " u'see',\n",
       " u'at',\n",
       " u'the',\n",
       " u'cinema',\n",
       " u'when',\n",
       " u'it',\n",
       " u'was',\n",
       " u'originally',\n",
       " u'released',\n",
       " u'some',\n",
       " u'of',\n",
       " u'it',\n",
       " u'has',\n",
       " u'subtle',\n",
       " u'messages',\n",
       " u'about',\n",
       " u'mj',\n",
       " u's',\n",
       " u'feeling',\n",
       " u'towards',\n",
       " u'the',\n",
       " u'press',\n",
       " u'and',\n",
       " u'also',\n",
       " u'the',\n",
       " u'obvious',\n",
       " u'message',\n",
       " u'of',\n",
       " u'drugs',\n",
       " u'are',\n",
       " u'bad',\n",
       " u'm',\n",
       " u'kay',\n",
       " u'visually',\n",
       " u'impressive',\n",
       " u'but',\n",
       " u'of',\n",
       " u'course',\n",
       " u'this',\n",
       " u'is',\n",
       " u'all',\n",
       " u'about',\n",
       " u'michael',\n",
       " u'jackson',\n",
       " u'so',\n",
       " u'unless',\n",
       " u'you',\n",
       " u'remotely',\n",
       " u'like',\n",
       " u'mj',\n",
       " u'in',\n",
       " u'anyway',\n",
       " u'then',\n",
       " u'you',\n",
       " u'are',\n",
       " u'going',\n",
       " u'to',\n",
       " u'hate',\n",
       " u'this',\n",
       " u'and',\n",
       " u'find',\n",
       " u'it',\n",
       " u'boring',\n",
       " u'some',\n",
       " u'may',\n",
       " u'call',\n",
       " u'mj',\n",
       " u'an',\n",
       " u'egotist',\n",
       " u'for',\n",
       " u'consenting',\n",
       " u'to',\n",
       " u'the',\n",
       " u'making',\n",
       " u'of',\n",
       " u'this',\n",
       " u'movie',\n",
       " u'but',\n",
       " u'mj',\n",
       " u'and',\n",
       " u'most',\n",
       " u'of',\n",
       " u'his',\n",
       " u'fans',\n",
       " u'would',\n",
       " u'say',\n",
       " u'that',\n",
       " u'he',\n",
       " u'made',\n",
       " u'it',\n",
       " u'for',\n",
       " u'the',\n",
       " u'fans',\n",
       " u'which',\n",
       " u'if',\n",
       " u'true',\n",
       " u'is',\n",
       " u'really',\n",
       " u'nice',\n",
       " u'of',\n",
       " u'him',\n",
       " u'the',\n",
       " u'actual',\n",
       " u'feature',\n",
       " u'film',\n",
       " u'bit',\n",
       " u'when',\n",
       " u'it',\n",
       " u'finally',\n",
       " u'starts',\n",
       " u'is',\n",
       " u'only',\n",
       " u'on',\n",
       " u'for',\n",
       " u'minutes',\n",
       " u'or',\n",
       " u'so',\n",
       " u'excluding',\n",
       " u'the',\n",
       " u'smooth',\n",
       " u'criminal',\n",
       " u'sequence',\n",
       " u'and',\n",
       " u'joe',\n",
       " u'pesci',\n",
       " u'is',\n",
       " u'convincing',\n",
       " u'as',\n",
       " u'a',\n",
       " u'psychopathic',\n",
       " u'all',\n",
       " u'powerful',\n",
       " u'drug',\n",
       " u'lord',\n",
       " u'why',\n",
       " u'he',\n",
       " u'wants',\n",
       " u'mj',\n",
       " u'dead',\n",
       " u'so',\n",
       " u'bad',\n",
       " u'is',\n",
       " u'beyond',\n",
       " u'me',\n",
       " u'because',\n",
       " u'mj',\n",
       " u'overheard',\n",
       " u'his',\n",
       " u'plans',\n",
       " u'nah',\n",
       " u'joe',\n",
       " u'pesci',\n",
       " u's',\n",
       " u'character',\n",
       " u'ranted',\n",
       " u'that',\n",
       " u'he',\n",
       " u'wanted',\n",
       " u'people',\n",
       " u'to',\n",
       " u'know',\n",
       " u'it',\n",
       " u'is',\n",
       " u'he',\n",
       " u'who',\n",
       " u'is',\n",
       " u'supplying',\n",
       " u'drugs',\n",
       " u'etc',\n",
       " u'so',\n",
       " u'i',\n",
       " u'dunno',\n",
       " u'maybe',\n",
       " u'he',\n",
       " u'just',\n",
       " u'hates',\n",
       " u'mj',\n",
       " u's',\n",
       " u'music',\n",
       " u'lots',\n",
       " u'of',\n",
       " u'cool',\n",
       " u'things',\n",
       " u'in',\n",
       " u'this',\n",
       " u'like',\n",
       " u'mj',\n",
       " u'turning',\n",
       " u'into',\n",
       " u'a',\n",
       " u'car',\n",
       " u'and',\n",
       " u'a',\n",
       " u'robot',\n",
       " u'and',\n",
       " u'the',\n",
       " u'whole',\n",
       " u'speed',\n",
       " u'demon',\n",
       " u'sequence',\n",
       " u'also',\n",
       " u'the',\n",
       " u'director',\n",
       " u'must',\n",
       " u'have',\n",
       " u'had',\n",
       " u'the',\n",
       " u'patience',\n",
       " u'of',\n",
       " u'a',\n",
       " u'saint',\n",
       " u'when',\n",
       " u'it',\n",
       " u'came',\n",
       " u'to',\n",
       " u'filming',\n",
       " u'the',\n",
       " u'kiddy',\n",
       " u'bad',\n",
       " u'sequence',\n",
       " u'as',\n",
       " u'usually',\n",
       " u'directors',\n",
       " u'hate',\n",
       " u'working',\n",
       " u'with',\n",
       " u'one',\n",
       " u'kid',\n",
       " u'let',\n",
       " u'alone',\n",
       " u'a',\n",
       " u'whole',\n",
       " u'bunch',\n",
       " u'of',\n",
       " u'them',\n",
       " u'performing',\n",
       " u'a',\n",
       " u'complex',\n",
       " u'dance',\n",
       " u'scene',\n",
       " u'bottom',\n",
       " u'line',\n",
       " u'this',\n",
       " u'movie',\n",
       " u'is',\n",
       " u'for',\n",
       " u'people',\n",
       " u'who',\n",
       " u'like',\n",
       " u'mj',\n",
       " u'on',\n",
       " u'one',\n",
       " u'level',\n",
       " u'or',\n",
       " u'another',\n",
       " u'which',\n",
       " u'i',\n",
       " u'think',\n",
       " u'is',\n",
       " u'most',\n",
       " u'people',\n",
       " u'if',\n",
       " u'not',\n",
       " u'then',\n",
       " u'stay',\n",
       " u'away',\n",
       " u'it',\n",
       " u'does',\n",
       " u'try',\n",
       " u'and',\n",
       " u'give',\n",
       " u'off',\n",
       " u'a',\n",
       " u'wholesome',\n",
       " u'message',\n",
       " u'and',\n",
       " u'ironically',\n",
       " u'mj',\n",
       " u's',\n",
       " u'bestest',\n",
       " u'buddy',\n",
       " u'in',\n",
       " u'this',\n",
       " u'movie',\n",
       " u'is',\n",
       " u'a',\n",
       " u'girl',\n",
       " u'michael',\n",
       " u'jackson',\n",
       " u'is',\n",
       " u'truly',\n",
       " u'one',\n",
       " u'of',\n",
       " u'the',\n",
       " u'most',\n",
       " u'talented',\n",
       " u'people',\n",
       " u'ever',\n",
       " u'to',\n",
       " u'grace',\n",
       " u'this',\n",
       " u'planet',\n",
       " u'but',\n",
       " u'is',\n",
       " u'he',\n",
       " u'guilty',\n",
       " u'well',\n",
       " u'with',\n",
       " u'all',\n",
       " u'the',\n",
       " u'attention',\n",
       " u'i',\n",
       " u've',\n",
       " u'gave',\n",
       " u'this',\n",
       " u'subject',\n",
       " u'hmmm',\n",
       " u'well',\n",
       " u'i',\n",
       " u'don',\n",
       " u't',\n",
       " u'know',\n",
       " u'because',\n",
       " u'people',\n",
       " u'can',\n",
       " u'be',\n",
       " u'different',\n",
       " u'behind',\n",
       " u'closed',\n",
       " u'doors',\n",
       " u'i',\n",
       " u'know',\n",
       " u'this',\n",
       " u'for',\n",
       " u'a',\n",
       " u'fact',\n",
       " u'he',\n",
       " u'is',\n",
       " u'either',\n",
       " u'an',\n",
       " u'extremely',\n",
       " u'nice',\n",
       " u'but',\n",
       " u'stupid',\n",
       " u'guy',\n",
       " u'or',\n",
       " u'one',\n",
       " u'of',\n",
       " u'the',\n",
       " u'most',\n",
       " u'sickest',\n",
       " u'liars',\n",
       " u'i',\n",
       " u'hope',\n",
       " u'he',\n",
       " u'is',\n",
       " u'not',\n",
       " u'the',\n",
       " u'latter']"
      ]
     },
     "execution_count": 11,
     "metadata": {},
     "output_type": "execute_result"
    }
   ],
   "source": [
    "train_movie_data['review_words'][0]"
   ]
  },
  {
   "cell_type": "code",
   "execution_count": 12,
   "metadata": {
    "collapsed": true
   },
   "outputs": [],
   "source": [
    "#words = modified_review1.split()"
   ]
  },
  {
   "cell_type": "code",
   "execution_count": 13,
   "metadata": {
    "collapsed": false
   },
   "outputs": [],
   "source": [
    "import nltk\n",
    "from nltk.corpus import stopwords\n",
    "#nltk.download()"
   ]
  },
  {
   "cell_type": "code",
   "execution_count": 14,
   "metadata": {
    "collapsed": false,
    "scrolled": true
   },
   "outputs": [
    {
     "name": "stdout",
     "output_type": "stream",
     "text": [
      "[u'i', u'me', u'my', u'myself', u'we', u'our', u'ours', u'ourselves', u'you', u'your', u'yours', u'yourself', u'yourselves', u'he', u'him', u'his', u'himself', u'she', u'her', u'hers', u'herself', u'it', u'its', u'itself', u'they', u'them', u'their', u'theirs', u'themselves', u'what', u'which', u'who', u'whom', u'this', u'that', u'these', u'those', u'am', u'is', u'are', u'was', u'were', u'be', u'been', u'being', u'have', u'has', u'had', u'having', u'do', u'does', u'did', u'doing', u'a', u'an', u'the', u'and', u'but', u'if', u'or', u'because', u'as', u'until', u'while', u'of', u'at', u'by', u'for', u'with', u'about', u'against', u'between', u'into', u'through', u'during', u'before', u'after', u'above', u'below', u'to', u'from', u'up', u'down', u'in', u'out', u'on', u'off', u'over', u'under', u'again', u'further', u'then', u'once', u'here', u'there', u'when', u'where', u'why', u'how', u'all', u'any', u'both', u'each', u'few', u'more', u'most', u'other', u'some', u'such', u'no', u'nor', u'not', u'only', u'own', u'same', u'so', u'than', u'too', u'very', u's', u't', u'can', u'will', u'just', u'don', u'should', u'now', u'd', u'll', u'm', u'o', u're', u've', u'y', u'ain', u'aren', u'couldn', u'didn', u'doesn', u'hadn', u'hasn', u'haven', u'isn', u'ma', u'mightn', u'mustn', u'needn', u'shan', u'shouldn', u'wasn', u'weren', u'won', u'wouldn']\n"
     ]
    }
   ],
   "source": [
    "\n",
    "print stopwords.words(\"english\")"
   ]
  },
  {
   "cell_type": "code",
   "execution_count": 15,
   "metadata": {
    "collapsed": true
   },
   "outputs": [],
   "source": [
    "stopwords_set = set(stopwords.words(\"english\"))\n",
    "train_movie_data['review_meaningful_words'] = train_movie_data['review_words'].apply(lambda x: [w for w in x if not w in stopwords_set])"
   ]
  },
  {
   "cell_type": "code",
   "execution_count": 16,
   "metadata": {
    "collapsed": false
   },
   "outputs": [],
   "source": [
    "removed_words = len(train_movie_data['review_words'][0]) - len(train_movie_data['review_meaningful_words'][0])"
   ]
  },
  {
   "cell_type": "code",
   "execution_count": 17,
   "metadata": {
    "collapsed": false
   },
   "outputs": [
    {
     "name": "stdout",
     "output_type": "stream",
     "text": [
      "218\n"
     ]
    }
   ],
   "source": [
    "print (removed_words)"
   ]
  },
  {
   "cell_type": "code",
   "execution_count": 18,
   "metadata": {
    "collapsed": false
   },
   "outputs": [],
   "source": [
    "#words = [w for w in words if not w in stopwords.words(\"english\")]\n",
    "#print words\n",
    "train_movie_data['reviewed_cleaned'] = train_movie_data['review_meaningful_words'].apply(lambda x: ' '.join(x))"
   ]
  },
  {
   "cell_type": "code",
   "execution_count": 19,
   "metadata": {
    "collapsed": false
   },
   "outputs": [
    {
     "data": {
      "text/html": [
       "<div>\n",
       "<table border=\"1\" class=\"dataframe\">\n",
       "  <thead>\n",
       "    <tr style=\"text-align: right;\">\n",
       "      <th></th>\n",
       "      <th>id</th>\n",
       "      <th>sentiment</th>\n",
       "      <th>review</th>\n",
       "      <th>review_bs</th>\n",
       "      <th>modified_review1</th>\n",
       "      <th>review_words</th>\n",
       "      <th>review_meaningful_words</th>\n",
       "      <th>reviewed_cleaned</th>\n",
       "    </tr>\n",
       "  </thead>\n",
       "  <tbody>\n",
       "    <tr>\n",
       "      <th>0</th>\n",
       "      <td>5814_8</td>\n",
       "      <td>1</td>\n",
       "      <td>With all this stuff going down at the moment w...</td>\n",
       "      <td>With all this stuff going down at the moment w...</td>\n",
       "      <td>With all this stuff going down at the moment w...</td>\n",
       "      <td>[with, all, this, stuff, going, down, at, the,...</td>\n",
       "      <td>[stuff, going, moment, mj, started, listening,...</td>\n",
       "      <td>stuff going moment mj started listening music ...</td>\n",
       "    </tr>\n",
       "    <tr>\n",
       "      <th>1</th>\n",
       "      <td>2381_9</td>\n",
       "      <td>1</td>\n",
       "      <td>\\The Classic War of the Worlds\\\" by Timothy Hi...</td>\n",
       "      <td>\\The Classic War of the Worlds\\\" by Timothy Hi...</td>\n",
       "      <td>The Classic War of the Worlds   by Timothy Hi...</td>\n",
       "      <td>[the, classic, war, of, the, worlds, by, timot...</td>\n",
       "      <td>[classic, war, worlds, timothy, hines, enterta...</td>\n",
       "      <td>classic war worlds timothy hines entertaining ...</td>\n",
       "    </tr>\n",
       "    <tr>\n",
       "      <th>2</th>\n",
       "      <td>7759_3</td>\n",
       "      <td>0</td>\n",
       "      <td>The film starts with a manager (Nicholas Bell)...</td>\n",
       "      <td>The film starts with a manager (Nicholas Bell)...</td>\n",
       "      <td>The film starts with a manager  Nicholas Bell ...</td>\n",
       "      <td>[the, film, starts, with, a, manager, nicholas...</td>\n",
       "      <td>[film, starts, manager, nicholas, bell, giving...</td>\n",
       "      <td>film starts manager nicholas bell giving welco...</td>\n",
       "    </tr>\n",
       "    <tr>\n",
       "      <th>3</th>\n",
       "      <td>3630_4</td>\n",
       "      <td>0</td>\n",
       "      <td>It must be assumed that those who praised this...</td>\n",
       "      <td>It must be assumed that those who praised this...</td>\n",
       "      <td>It must be assumed that those who praised this...</td>\n",
       "      <td>[it, must, be, assumed, that, those, who, prai...</td>\n",
       "      <td>[must, assumed, praised, film, greatest, filme...</td>\n",
       "      <td>must assumed praised film greatest filmed oper...</td>\n",
       "    </tr>\n",
       "    <tr>\n",
       "      <th>4</th>\n",
       "      <td>9495_8</td>\n",
       "      <td>1</td>\n",
       "      <td>Superbly trashy and wondrously unpretentious 8...</td>\n",
       "      <td>Superbly trashy and wondrously unpretentious 8...</td>\n",
       "      <td>Superbly trashy and wondrously unpretentious  ...</td>\n",
       "      <td>[superbly, trashy, and, wondrously, unpretenti...</td>\n",
       "      <td>[superbly, trashy, wondrously, unpretentious, ...</td>\n",
       "      <td>superbly trashy wondrously unpretentious explo...</td>\n",
       "    </tr>\n",
       "  </tbody>\n",
       "</table>\n",
       "</div>"
      ],
      "text/plain": [
       "       id  sentiment                                             review  \\\n",
       "0  5814_8          1  With all this stuff going down at the moment w...   \n",
       "1  2381_9          1  \\The Classic War of the Worlds\\\" by Timothy Hi...   \n",
       "2  7759_3          0  The film starts with a manager (Nicholas Bell)...   \n",
       "3  3630_4          0  It must be assumed that those who praised this...   \n",
       "4  9495_8          1  Superbly trashy and wondrously unpretentious 8...   \n",
       "\n",
       "                                           review_bs  \\\n",
       "0  With all this stuff going down at the moment w...   \n",
       "1  \\The Classic War of the Worlds\\\" by Timothy Hi...   \n",
       "2  The film starts with a manager (Nicholas Bell)...   \n",
       "3  It must be assumed that those who praised this...   \n",
       "4  Superbly trashy and wondrously unpretentious 8...   \n",
       "\n",
       "                                    modified_review1  \\\n",
       "0  With all this stuff going down at the moment w...   \n",
       "1   The Classic War of the Worlds   by Timothy Hi...   \n",
       "2  The film starts with a manager  Nicholas Bell ...   \n",
       "3  It must be assumed that those who praised this...   \n",
       "4  Superbly trashy and wondrously unpretentious  ...   \n",
       "\n",
       "                                        review_words  \\\n",
       "0  [with, all, this, stuff, going, down, at, the,...   \n",
       "1  [the, classic, war, of, the, worlds, by, timot...   \n",
       "2  [the, film, starts, with, a, manager, nicholas...   \n",
       "3  [it, must, be, assumed, that, those, who, prai...   \n",
       "4  [superbly, trashy, and, wondrously, unpretenti...   \n",
       "\n",
       "                             review_meaningful_words  \\\n",
       "0  [stuff, going, moment, mj, started, listening,...   \n",
       "1  [classic, war, worlds, timothy, hines, enterta...   \n",
       "2  [film, starts, manager, nicholas, bell, giving...   \n",
       "3  [must, assumed, praised, film, greatest, filme...   \n",
       "4  [superbly, trashy, wondrously, unpretentious, ...   \n",
       "\n",
       "                                    reviewed_cleaned  \n",
       "0  stuff going moment mj started listening music ...  \n",
       "1  classic war worlds timothy hines entertaining ...  \n",
       "2  film starts manager nicholas bell giving welco...  \n",
       "3  must assumed praised film greatest filmed oper...  \n",
       "4  superbly trashy wondrously unpretentious explo...  "
      ]
     },
     "metadata": {},
     "output_type": "display_data"
    }
   ],
   "source": [
    "#print train_movie_data\n",
    "from IPython.display import display\n",
    "#train_movie_data.drop(['review', 'review_bs', 'modified_review1', 'review_words', 'review_meaningful_words'], axis=1, inplace=True)\n",
    "display(train_movie_data.head())"
   ]
  },
  {
   "cell_type": "code",
   "execution_count": 20,
   "metadata": {
    "collapsed": false
   },
   "outputs": [
    {
     "name": "stdout",
     "output_type": "stream",
     "text": [
      "stuff going moment mj started listening music watching odd documentary watched wiz watched moonwalker maybe want get certain insight guy thought really cool eighties maybe make mind whether guilty innocent moonwalker part biography part feature film remember going see cinema originally released subtle messages mj feeling towards press also obvious message drugs bad kay visually impressive course michael jackson unless remotely like mj anyway going hate find boring may call mj egotist consenting making movie mj fans would say made fans true really nice actual feature film bit finally starts minutes excluding smooth criminal sequence joe pesci convincing psychopathic powerful drug lord wants mj dead bad beyond mj overheard plans nah joe pesci character ranted wanted people know supplying drugs etc dunno maybe hates mj music lots cool things like mj turning car robot whole speed demon sequence also director must patience saint came filming kiddy bad sequence usually directors hate working one kid let alone whole bunch performing complex dance scene bottom line movie people like mj one level another think people stay away try give wholesome message ironically mj bestest buddy movie girl michael jackson truly one talented people ever grace planet guilty well attention gave subject hmmm well know people different behind closed doors know fact either extremely nice stupid guy one sickest liars hope latter\n"
     ]
    }
   ],
   "source": [
    "print(train_movie_data['reviewed_cleaned'][0])"
   ]
  },
  {
   "cell_type": "code",
   "execution_count": 21,
   "metadata": {
    "collapsed": false
   },
   "outputs": [],
   "source": [
    "from sklearn.feature_extraction.text import CountVectorizer\n",
    "vectorizer = CountVectorizer(analyzer=\"word\", preprocessor=None, tokenizer=None, stop_words=None, max_features=5000)"
   ]
  },
  {
   "cell_type": "code",
   "execution_count": 22,
   "metadata": {
    "collapsed": false
   },
   "outputs": [],
   "source": [
    "train_data_features = vectorizer.fit_transform(list(train_movie_data['reviewed_cleaned'].values))"
   ]
  },
  {
   "cell_type": "code",
   "execution_count": 23,
   "metadata": {
    "collapsed": true
   },
   "outputs": [],
   "source": [
    "train_data_features = train_data_features.toarray()"
   ]
  },
  {
   "cell_type": "code",
   "execution_count": 24,
   "metadata": {
    "collapsed": false
   },
   "outputs": [
    {
     "data": {
      "text/plain": [
       "array([[0, 0, 0, ..., 0, 0, 0],\n",
       "       [0, 0, 0, ..., 0, 0, 0],\n",
       "       [0, 0, 0, ..., 0, 0, 0],\n",
       "       ..., \n",
       "       [0, 0, 0, ..., 0, 0, 0],\n",
       "       [0, 0, 0, ..., 0, 0, 0],\n",
       "       [0, 0, 0, ..., 0, 0, 0]])"
      ]
     },
     "execution_count": 24,
     "metadata": {},
     "output_type": "execute_result"
    }
   ],
   "source": [
    "train_data_features"
   ]
  },
  {
   "cell_type": "code",
   "execution_count": 25,
   "metadata": {
    "collapsed": false
   },
   "outputs": [
    {
     "data": {
      "text/plain": [
       "(9060, 5000)"
      ]
     },
     "execution_count": 25,
     "metadata": {},
     "output_type": "execute_result"
    }
   ],
   "source": [
    "train_data_features.shape"
   ]
  },
  {
   "cell_type": "code",
   "execution_count": 26,
   "metadata": {
    "collapsed": false
   },
   "outputs": [
    {
     "data": {
      "text/plain": [
       "9060"
      ]
     },
     "execution_count": 26,
     "metadata": {},
     "output_type": "execute_result"
    }
   ],
   "source": [
    "len(train_data_features)"
   ]
  },
  {
   "cell_type": "code",
   "execution_count": 27,
   "metadata": {
    "collapsed": false
   },
   "outputs": [
    {
     "name": "stdout",
     "output_type": "stream",
     "text": [
      "[u'abandoned', u'abc', u'abilities', u'ability', u'able', u'abraham', u'absence', u'absolute', u'absolutely', u'absurd', u'abuse', u'abusive', u'academy', u'accent', u'accents', u'accept', u'acceptable', u'accepted', u'accepts', u'access', u'accident', u'accidentally', u'accomplish', u'accomplished', u'according', u'account', u'accurate', u'accused', u'achieve', u'achieved', u'achievement', u'across', u'act', u'acted', u'acting', u'action', u'actions', u'active', u'actor', u'actors', u'actress', u'actresses', u'acts', u'actual', u'actually', u'ad', u'adam', u'adams', u'adaptation', u'adapted', u'add', u'added', u'addicted', u'adding', u'addition', u'adds', u'adequate', u'admire', u'admit', u'admittedly', u'adolescent', u'adorable', u'adult', u'adults', u'advance', u'advanced', u'advantage', u'adventure', u'adventures', u'advertising', u'advice', u'advise', u'affair', u'affairs', u'affect', u'affected', u'afford', u'aforementioned', u'afraid', u'africa', u'african', u'afternoon', u'afterwards', u'age', u'aged', u'agency', u'agenda', u'agent', u'agents', u'ages', u'aging', u'ago', u'agree', u'agreed', u'agrees', u'ah', u'ahead', u'aid', u'aids', u'aim', u'aimed', u'air', u'aired', u'airplane', u'airport', u'aka', u'akshay', u'al', u'alan', u'alas', u'albeit', u'albert', u'album', u'alcohol', u'alcoholic', u'alert', u'alex', u'alexander', u'alice', u'alicia', u'alien', u'aliens', u'alike', u'alison', u'alive', u'allen', u'allow', u'allowed', u'allowing', u'allows', u'ally', u'almost', u'alone', u'along', u'alongside', u'already', u'alright', u'also', u'altered', u'although', u'altogether', u'always', u'amanda', u'amateur', u'amateurish', u'amazed', u'amazing', u'amazingly', u'ambitious', u'america', u'american', u'americans', u'amitabh', u'among', u'amongst', u'amount', u'amused', u'amusing', u'amy', u'analysis', u'ancient', u'anderson', u'andrew', u'andrews', u'andy', u'angel', u'angeles', u'angels', u'anger', u'angle', u'angles', u'angry', u'animal', u'animals', u'animated', u'animation', u'anime', u'ann', u'anna', u'anne', u'annoyed', u'annoying', u'another', u'answer', u'answers', u'anthony', u'anti', u'anticipation', u'antics', u'anton', u'antonio', u'antonioni', u'anybody', u'anymore', u'anyone', u'anything', u'anyway', u'anyways', u'anywhere', u'apart', u'apartment', u'appalling', u'apparent', u'apparently', u'appeal', u'appealing', u'appear', u'appearance', u'appearances', u'appeared', u'appearing', u'appears', u'appreciate', u'appreciated', u'appreciation', u'approach', u'appropriate', u'april', u'area', u'areas', u'arguably', u'argue', u'argument', u'arm', u'armed', u'arms', u'army', u'arnold', u'around', u'arquette', u'arrested', u'arrival', u'arrive', u'arrived', u'arrives', u'arrogant', u'art', u'arthur', u'artist', u'artistic', u'artists', u'arts', u'artsy', u'ashamed', u'asian', u'aside', u'ask', u'asked', u'asking', u'asks', u'asleep', u'aspect', u'aspects', u'aspiring', u'ass', u'assassin', u'assault', u'assigned', u'assistant', u'associated', u'assume', u'astaire', u'asylum', u'atlantis', u'atmosphere', u'atmospheric', u'atrocious', u'attached', u'attack', u'attacked', u'attacks', u'attempt', u'attempted', u'attempting', u'attempts', u'attend', u'attention', u'attitude', u'attitudes', u'attorney', u'attracted', u'attraction', u'attractive', u'audience', u'audiences', u'audio', u'audrey', u'aunt', u'austin', u'australia', u'australian', u'authentic', u'author', u'authority', u'auto', u'automatically', u'available', u'average', u'avoid', u'avoided', u'awake', u'award', u'awards', u'aware', u'away', u'awe', u'awesome', u'awful', u'awfully', u'awkward', u'babe', u'babies', u'baby', u'bacall', u'back', u'backdrop', u'background', u'backgrounds', u'bad', u'badly', u'bag', u'baker', u'bakshi', u'balance', u'ball', u'ballet', u'balls', u'band', u'bands', u'bang', u'bank', u'banned', u'bar', u'barbara', u'bare', u'barely', u'bargain', u'barrel', u'barry', u'barrymore', u'base', u'baseball', u'based', u'basement', u'basic', u'basically', u'basis', u'basketball', u'bat', u'bathroom', u'batman', u'battle', u'battles', u'bay', u'bbc', u'beach', u'bear', u'bears', u'beast', u'beat', u'beaten', u'beating', u'beatles', u'beats', u'beatty', u'beautiful', u'beautifully', u'beauty', u'became', u'become', u'becomes', u'becoming', u'bed', u'bedroom', u'beer', u'began', u'begin', u'beginning', u'begins', u'behavior', u'behaviour', u'behind', u'beings', u'bela', u'belief', u'beliefs', u'believable', u'believe', u'believed', u'believes', u'believing', u'bell', u'belong', u'belongs', u'beloved', u'belushi', u'ben', u'beneath', u'benefit', u'bergman', u'bernard', u'besides', u'best', u'bet', u'betrayal', u'bette', u'better', u'bettie', u'beverly', u'beyond', u'bible', u'big', u'bigger', u'biggest', u'bill', u'billy', u'bin', u'biography', u'bird', u'birds', u'birth', u'birthday', u'bit', u'bite', u'bits', u'bitter', u'bizarre', u'black', u'blade', u'blah', u'blair', u'blake', u'blame', u'bland', u'blandings', u'blank', u'blast', u'blatant', u'bleak', u'blend', u'blew', u'blind', u'block', u'blockbuster', u'blond', u'blonde', u'blood', u'bloody', u'blow', u'blowing', u'blown', u'blows', u'blue', u'blues', u'bo', u'board', u'boat', u'bob', u'bobby', u'bodies', u'body', u'bold', u'boll', u'bollywood', u'bomb', u'bond', u'bone', u'bonnie', u'bonus', u'book', u'books', u'boom', u'boot', u'border', u'bore', u'bored', u'boredom', u'boring', u'boris', u'born', u'borrowed', u'boss', u'bother', u'bothered', u'bottle', u'bottom', u'bought', u'bound', u'bourne', u'box', u'boxer', u'boxing', u'boy', u'boyfriend', u'boyle', u'boys', u'brad', u'brady', u'brain', u'brains', u'branagh', u'brand', u'brando', u'brave', u'brazil', u'break', u'breaking', u'breaks', u'breasts', u'breath', u'breathtaking', u'breed', u'brian', u'bride', u'bridge', u'bridget', u'brief', u'briefly', u'bright', u'brilliance', u'brilliant', u'brilliantly', u'bring', u'bringing', u'brings', u'britain', u'british', u'broad', u'broadcast', u'broadway', u'broke', u'broken', u'brooding', u'brooklyn', u'brooks', u'brosnan', u'brother', u'brothers', u'brought', u'brown', u'bruce', u'brutal', u'brutality', u'brutally', u'bsg', u'buck', u'bucks', u'bud', u'buddies', u'buddy', u'budget', u'budgets', u'buff', u'buffalo', u'buffs', u'bug', u'bugs', u'build', u'building', u'buildings', u'builds', u'built', u'bull', u'bullet', u'bullets', u'bully', u'bumbling', u'bunch', u'buried', u'burn', u'burned', u'burning', u'burns', u'burt', u'burton', u'bus', u'bush', u'business', u'buster', u'busy', u'butt', u'button', u'buy', u'buying', u'bye', u'cabin', u'cable', u'cage', u'caine', u'caliber', u'california', u'call', u'called', u'calling', u'calls', u'calm', u'came', u'cameo', u'cameos', u'camera', u'cameras', u'cameron', u'camp', u'campbell', u'campy', u'canada', u'canadian', u'cancer', u'candy', u'cannot', u'cant', u'capable', u'capital', u'capote', u'captain', u'captivating', u'capture', u'captured', u'captures', u'capturing', u'car', u'card', u'cardboard', u'cards', u'care', u'cared', u'career', u'careers', u'careful', u'carefully', u'carell', u'cares', u'caricatures', u'caring', u'carl', u'carol', u'carpenter', u'carrey', u'carrie', u'carried', u'carries', u'carry', u'carrying', u'cars', u'carter', u'cartoon', u'cartoons', u'cary', u'case', u'cases', u'cash', u'cassavetes', u'cast', u'casting', u'castle', u'cat', u'catch', u'catchy', u'category', u'catherine', u'catholic', u'cats', u'caught', u'cause', u'caused', u'causes', u'causing', u'cave', u'cd', u'celebrity', u'cell', u'celluloid', u'cena', u'center', u'centered', u'centers', u'central', u'century', u'cerebral', u'certain', u'certainly', u'cg', u'cgi', u'chain', u'chainsaw', u'chair', u'challenge', u'challenged', u'challenges', u'challenging', u'champion', u'championship', u'chan', u'chance', u'chances', u'change', u'changed', u'changes', u'changing', u'channel', u'channels', u'chaplin', u'chapter', u'character', u'characterization', u'characters', u'charge', u'charisma', u'charismatic', u'charles', u'charlie', u'charlotte', u'charm', u'charming', u'chase', u'chased', u'chases', u'chasing', u'chavez', u'che', u'cheap', u'cheated', u'cheating', u'check', u'checking', u'cheek', u'cheese', u'cheesy', u'chemistry', u'cher', u'chess', u'chest', u'chick', u'chief', u'child', u'childhood', u'childish', u'children', u'chilling', u'chills', u'china', u'chinese', u'choice', u'choices', u'choose', u'chooses', u'choppy', u'choreographed', u'choreography', u'chorus', u'chose', u'chosen', u'chris', u'christ', u'christian', u'christians', u'christmas', u'christopher', u'christy', u'church', u'cia', u'cinderella', u'cinema', u'cinematic', u'cinematographer', u'cinematography', u'circle', u'circumstances', u'cities', u'citizen', u'citizens', u'city', u'civil', u'civilization', u'claim', u'claimed', u'claiming', u'claims', u'claire', u'clan', u'clark', u'class', u'classes', u'classic', u'classical', u'classics', u'claude', u'claus', u'clean', u'clear', u'clearly', u'clever', u'cleverly', u'clich', u'cliche', u'cliff', u'climactic', u'climax', u'clint', u'clips', u'clive', u'close', u'closed', u'closely', u'closer', u'closest', u'closet', u'closing', u'clothes', u'clothing', u'clown', u'club', u'clue', u'clues', u'clumsy', u'co', u'coach', u'coast', u'coaster', u'code', u'coherent', u'cold', u'cole', u'collection', u'college', u'collins', u'color', u'colorful', u'colors', u'colour', u'columbo', u'com', u'combat', u'combination', u'combine', u'combined', u'come', u'comedian', u'comedians', u'comedic', u'comedies', u'comedy', u'comes', u'comfortable', u'comic', u'comical', u'comics', u'coming', u'command', u'comment', u'commentary', u'commented', u'comments', u'commercial', u'commercials', u'commit', u'committed', u'common', u'communist', u'community', u'companies', u'companion', u'company', u'compare', u'compared', u'comparing', u'comparison', u'compelled', u'compelling', u'competent', u'competition', u'complain', u'complaint', u'complete', u'completely', u'complex', u'complexity', u'complicated', u'composed', u'composer', u'computer', u'con', u'conceived', u'concept', u'concern', u'concerned', u'concerning', u'concerns', u'concert', u'conclusion', u'condition', u'conditions', u'confidence', u'confident', u'conflict', u'confrontation', u'confused', u'confusing', u'confusion', u'connect', u'connected', u'connection', u'connery', u'connor', u'conscious', u'consequences', u'conservative', u'consider', u'considerable', u'considered', u'considering', u'consistent', u'consistently', u'consists', u'conspiracy', u'constant', u'constantly', u'constructed', u'construction', u'contact', u'contain', u'contained', u'contains', u'contemporary', u'content', u'contest', u'context', u'continue', u'continued', u'continues', u'continuity', u'contract', u'contrary', u'contrast', u'contrived', u'control', u'controlled', u'controversial', u'conventional', u'conversation', u'conversations', u'convey', u'conviction', u'convince', u'convinced', u'convincing', u'convincingly', u'convoluted', u'cook', u'cool', u'cooper', u'cop', u'copies', u'cops', u'copy', u'core', u'corner', u'corny', u'corporate', u'corpse', u'correct', u'corrupt', u'corruption', u'cost', u'costs', u'costume', u'costumes', u'could', u'count', u'countless', u'countries', u'country', u'countryside', u'couple', u'courage', u'course', u'court', u'cousin', u'cover', u'covered', u'covers', u'cowboy', u'cox', u'crack', u'cracking', u'craft', u'crafted', u'craig', u'crap', u'crappy', u'crash', u'craven', u'crawford', u'crazy', u'cream', u'create', u'created', u'creates', u'creating', u'creation', u'creative', u'creativity', u'creators', u'creature', u'creatures', u'credibility', u'credible', u'credit', u'credits', u'creek', u'creep', u'creepy', u'crew', u'cried', u'crime', u'crimes', u'criminal', u'criminals', u'cringe', u'crisis', u'critic', u'critical', u'criticism', u'critics', u'cross', u'crowd', u'crucial', u'crude', u'cruel', u'cruise', u'crush', u'cry', u'crying', u'crystal', u'cuba', u'cube', u'cult', u'cultural', u'culture', u'cup', u'cure', u'curiosity', u'curious', u'current', u'currently', u'curse', u'curtis', u'cusack', u'cut', u'cute', u'cuts', u'cutting', u'cynical', u'da', u'dad', u'daddy', u'dahmer', u'daily', u'dalton', u'damage', u'damme', u'damn', u'dan', u'dance', u'dancer', u'dancers', u'dances', u'dancing', u'danes', u'danger', u'dangerous', u'daniel', u'danish', u'danny', u'dare', u'daring', u'darius', u'dark', u'darker', u'darkness', u'date', u'dated', u'dating', u'daughter', u'daughters', u'david', u'davies', u'davis', u'dawn', u'dawson', u'day', u'days', u'de', u'dead', u'deadly', u'deal', u'dealing', u'deals', u'dealt', u'dean', u'dear', u'death', u'deaths', u'debate', u'debut', u'decade', u'decades', u'decent', u'decide', u'decided', u'decides', u'decision', u'decisions', u'dedicated', u'dee', u'deep', u'deeper', u'deeply', u'defeat', u'defeated', u'defend', u'defense', u'defined', u'definite', u'definitely', u'degree', u'del', u'deliberately', u'delight', u'delightful', u'deliver', u'delivered', u'delivering', u'delivers', u'delivery', u'demand', u'demands', u'demise', u'demon', u'demons', u'dennis', u'dentist', u'denzel', u'department', u'depicted', u'depicting', u'depiction', u'depicts', u'depressed', u'depressing', u'depression', u'depth', u'der', u'derek', u'descent', u'describe', u'described', u'describes', u'description', u'desert', u'deserted', u'deserve', u'deserved', u'deserves', u'design', u'designed', u'designer', u'designs', u'desire', u'desired', u'desires', u'despair', u'desperate', u'desperately', u'desperation', u'despite', u'destroy', u'destroyed', u'destroying', u'destruction', u'detail', u'detailed', u'details', u'detective', u'determined', u'develop', u'developed', u'developing', u'development', u'develops', u'device', u'devil', u'devoid', u'devoted', u'dialog', u'dialogs', u'dialogue', u'dialogues', u'diamond', u'diana', u'diane', u'dick', u'die', u'died', u'dies', u'difference', u'differences', u'different', u'difficult', u'dig', u'digital', u'dignity', u'dilemma', u'dimensional', u'din', u'dinner', u'dinosaur', u'dinosaurs', u'dire', u'direct', u'directed', u'directing', u'direction', u'directly', u'director', u'directorial', u'directors', u'directs', u'dirty', u'disagree', u'disappear', u'disappeared', u'disappoint', u'disappointed', u'disappointing', u'disappointment', u'disaster', u'disbelief', u'disc', u'discover', u'discovered', u'discovers', u'discovery', u'discuss', u'discussion', u'disease', u'disgusting', u'disjointed', u'dislike', u'disliked', u'disney', u'display', u'displayed', u'displays', u'distance', u'distant', u'distinct', u'distracting', u'disturbed', u'disturbing', u'divorce', u'dixon', u'doc', u'doctor', u'documentaries', u'documentary', u'dog', u'dogs', u'doll', u'dollar', u'dollars', u'dolls', u'dolph', u'domestic', u'dominick', u'domino', u'donald', u'done', u'donna', u'doo', u'doom', u'doomed', u'door', u'doors', u'dorothy', u'dose', u'double', u'doubt', u'douglas', u'downey', u'downhill', u'downright', u'dozen', u'dozens', u'dr', u'dracula', u'drag', u'dragged', u'dragon', u'drags', u'drama', u'dramas', u'dramatic', u'draw', u'drawing', u'drawn', u'draws', u'dreadful', u'dream', u'dreams', u'dreary', u'dress', u'dressed', u'dresses', u'dressing', u'drew', u'drink', u'drinking', u'drive', u'drivel', u'driven', u'driver', u'drives', u'driving', u'drop', u'dropped', u'drops', u'drove', u'drug', u'drugs', u'drunk', u'drunken', u'dry', u'dub', u'dubbed', u'dubbing', u'dude', u'due', u'duke', u'dull', u'dumb', u'duo', u'dust', u'dustin', u'dutch', u'duty', u'dvd', u'dvds', u'dying', u'dynamic', u'eager', u'ear', u'earlier', u'early', u'earned', u'ears', u'earth', u'ease', u'easier', u'easily', u'east', u'eastern', u'eastwood', u'easy', u'eat', u'eaten', u'eating', u'eccentric', u'ed', u'eddie', u'edgar', u'edge', u'edgy', u'edie', u'edit', u'edited', u'editing', u'edition', u'editor', u'educated', u'education', u'edward', u'eerie', u'effect', u'effective', u'effectively', u'effects', u'effort', u'efforts', u'ego', u'eight', u'eighties', u'either', u'el', u'elaborate', u'elderly', u'element', u'elements', u'elephant', u'elizabeth', u'ellen', u'else', u'elsewhere', u'elvira', u'elvis', u'em', u'embarrassed', u'embarrassing', u'embarrassment', u'emily', u'emma', u'emotion', u'emotional', u'emotionally', u'emotions', u'emphasis', u'empire', u'empty', u'encounter', u'encounters', u'encourage', u'end', u'endearing', u'ended', u'ending', u'endings', u'endless', u'ends', u'enemies', u'enemy', u'energy', u'engage', u'engaged', u'engaging', u'england', u'english', u'enjoy', u'enjoyable', u'enjoyed', u'enjoying', u'enjoyment', u'enjoys', u'enormous', u'enough', u'ensemble', u'enter', u'enters', u'entertain', u'entertained', u'entertaining', u'entertainment', u'enthusiasm', u'entire', u'entirely', u'entry', u'environment', u'epic', u'episode', u'episodes', u'equal', u'equally', u'equipment', u'era', u'eric', u'erotic', u'errors', u'escape', u'escaped', u'escapes', u'escaping', u'especially', u'essence', u'essential', u'essentially', u'established', u'estate', u'etc', u'ethan', u'ethnic', u'eugene', u'europa', u'europe', u'european', u'eva', u'eve', u'even', u'evening', u'event', u'events', u'eventually', u'ever', u'every', u'everybody', u'everyday', u'everyone', u'everything', u'everywhere', u'evidence', u'evident', u'evidently', u'evil', u'ex', u'exact', u'exactly', u'exaggerated', u'examination', u'example', u'examples', u'excellent', u'except', u'exception', u'exceptional', u'exceptionally', u'excessive', u'excited', u'excitement', u'exciting', u'excuse', u'executed', u'execution', u'executive', u'exercise', u'exist', u'existed', u'existence', u'existent', u'exists', u'expect', u'expectations', u'expected', u'expecting', u'expedition', u'expensive', u'experience', u'experienced', u'experiences', u'experiment', u'experimental', u'experiments', u'expert', u'explain', u'explained', u'explaining', u'explains', u'explanation', u'explicit', u'exploitation', u'explore', u'explored', u'explosion', u'explosions', u'exposed', u'exposure', u'express', u'expressed', u'expression', u'expressions', u'extended', u'extent', u'extra', u'extraordinary', u'extras', u'extreme', u'extremely', u'eye', u'eyed', u'eyes', u'eyre', u'fabulous', u'face', u'faced', u'faces', u'facial', u'facing', u'fact', u'factor', u'factory', u'facts', u'fail', u'failed', u'failing', u'fails', u'failure', u'fair', u'fairly', u'fairy', u'faith', u'faithful', u'fake', u'falk', u'fall', u'fallen', u'falling', u'falls', u'false', u'fame', u'familiar', u'families', u'family', u'famous', u'fan', u'fancy', u'fans', u'fantastic', u'fantasy', u'far', u'farce', u'fare', u'farm', u'farrell', u'fascinated', u'fascinating', u'fashion', u'fashioned', u'fassbinder', u'fast', u'faster', u'fat', u'fatal', u'fate', u'father', u'fault', u'faults', u'favor', u'favorite', u'favorites', u'favourite', u'fay', u'fbi', u'fear', u'fears', u'feat', u'feature', u'featured', u'features', u'featuring', u'feed', u'feel', u'feeling', u'feelings', u'feels', u'feet', u'felix', u'fell', u'fellow', u'felt', u'female', u'females', u'feminist', u'femme', u'fest', u'festival', u'fetched', u'fever', u'fi', u'fianc', u'fiction', u'fictional', u'field', u'fifteen', u'fifties', u'fifty', u'fight', u'fighter', u'fighting', u'fights', u'figure', u'figured', u'figures', u'fill', u'filled', u'filling', u'film', u'filmed', u'filming', u'filmmaker', u'filmmakers', u'films', u'final', u'finale', u'finally', u'financial', u'find', u'finding', u'finds', u'fine', u'finest', u'finger', u'fingers', u'finish', u'finished', u'fire', u'fired', u'firm', u'first', u'firstly', u'fish', u'fisher', u'fishing', u'fit', u'fits', u'fitting', u'five', u'fix', u'flair', u'flash', u'flashback', u'flashbacks', u'flat', u'flaw', u'flawed', u'flawless', u'flaws', u'flesh', u'flick', u'flicks', u'flies', u'flight', u'floating', u'floor', u'flop', u'florida', u'flow', u'fly', u'flying', u'flynn', u'focus', u'focused', u'focuses', u'focusing', u'folk', u'folks', u'follow', u'followed', u'following', u'follows', u'fond', u'fonda', u'fontaine', u'food', u'fool', u'fooled', u'foot', u'footage', u'football', u'forbidden', u'force', u'forced', u'forces', u'ford', u'foreign', u'forest', u'forever', u'forget', u'forgettable', u'forgive', u'forgot', u'forgotten', u'form', u'format', u'former', u'forms', u'formula', u'formulaic', u'forth', u'fortunately', u'fortune', u'forty', u'forward', u'foster', u'fought', u'foul', u'found', u'four', u'fourth', u'fox', u'frame', u'france', u'franchise', u'francis', u'francisco', u'franco', u'frank', u'frankenstein', u'frankie', u'frankly', u'freak', u'freaks', u'fred', u'freddy', u'free', u'freedom', u'freeman', u'french', u'frequent', u'frequently', u'fresh', u'friday', u'friend', u'friendly', u'friends', u'friendship', u'frightened', u'frightening', u'front', u'frontal', u'frontier', u'frustrated', u'frustrating', u'frustration', u'fu', u'fulci', u'full', u'fuller', u'fully', u'fun', u'function', u'funeral', u'funnier', u'funniest', u'funny', u'furious', u'furthermore', u'fury', u'future', u'futuristic', u'fuzzy', u'fx', u'gabriel', u'gag', u'gags', u'gain', u'gal', u'gambling', u'game', u'gamera', u'games', u'gang', u'gangster', u'gannon', u'garbage', u'garbo', u'garden', u'gary', u'gas', u'gather', u'gave', u'gay', u'gem', u'gender', u'gene', u'general', u'generally', u'generated', u'generation', u'generations', u'generic', u'generous', u'genius', u'genre', u'genres', u'gentle', u'genuine', u'genuinely', u'george', u'gerard', u'german', u'germans', u'germany', u'get', u'gets', u'getting', u'ghost', u'ghosts', u'giallo', u'giant', u'gift', u'gifted', u'gilliam', u'gina', u'ginger', u'girl', u'girlfriend', u'girls', u'give', u'given', u'gives', u'giving', u'glad', u'glass', u'glenn', u'glimpse', u'global', u'glorious', u'glory', u'glover', u'glowing', u'go', u'goal', u'god', u'godfather', u'godzilla', u'goers', u'goes', u'going', u'gold', u'goldberg', u'golden', u'goldsworthy', u'gone', u'gonna', u'good', u'goodness', u'goofy', u'gordon', u'gore', u'gorgeous', u'gory', u'got', u'gothic', u'gotta', u'gotten', u'government', u'grab', u'grace', u'grade', u'gradually', u'graham', u'grand', u'grandfather', u'grandmother', u'grant', u'granted', u'graphic', u'graphics', u'grasp', u'gratuitous', u'grave', u'gray', u'great', u'greater', u'greatest', u'greatly', u'greedy', u'greek', u'green', u'greg', u'gregory', u'grew', u'grey', u'grim', u'grinch', u'gripping', u'gritty', u'gross', u'grotesque', u'ground', u'group', u'groups', u'grow', u'growing', u'grown', u'grows', u'gruesome', u'guarantee', u'guaranteed', u'guard', u'guess', u'guessed', u'guessing', u'guest', u'guide', u'guilt', u'guilty', u'guinness', u'gun', u'guns', u'guts', u'guy', u'guys', u'ha', u'hair', u'haired', u'hal', u'half', u'halfway', u'hall', u'halloween', u'hamilton', u'hamlet', u'hand', u'handed', u'handful', u'handle', u'handled', u'hands', u'handsome', u'hang', u'hanging', u'hank', u'hanks', u'happen', u'happened', u'happening', u'happens', u'happily', u'happiness', u'happy', u'hard', u'hardcore', u'harder', u'hardly', u'hardy', u'harm', u'harold', u'harris', u'harry', u'harsh', u'hart', u'harvey', u'hat', u'hate', u'hated', u'hates', u'hatred', u'haunted', u'haunting', u'hbo', u'head', u'headed', u'heads', u'health', u'hear', u'heard', u'hearing', u'heart', u'hearted', u'hearts', u'heat', u'heaven', u'heavily', u'heavy', u'heck', u'heels', u'heights', u'held', u'helen', u'helicopter', u'hell', u'hello', u'help', u'helped', u'helping', u'helps', u'hence', u'henry', u'hepburn', u'hero', u'heroes', u'heroic', u'heroine', u'heston', u'hey', u'hidden', u'hide', u'hideous', u'hiding', u'high', u'higher', u'highest', u'highlight', u'highlights', u'highly', u'hilarious', u'hill', u'hills', u'hint', u'hints', u'hip', u'hippie', u'hire', u'hired', u'historical', u'historically', u'history', u'hit', u'hitchcock', u'hitler', u'hits', u'hitting', u'hk', u'ho', u'hoffman', u'hold', u'holding', u'holds', u'hole', u'holes', u'holiday', u'hollow', u'hollywood', u'holmes', u'holy', u'homage', u'home', u'homeless', u'homer', u'honest', u'honestly', u'honesty', u'hong', u'honor', u'hood', u'hook', u'hooked', u'hop', u'hope', u'hoped', u'hopefully', u'hopeless', u'hopelessly', u'hopes', u'hoping', u'hopkins', u'hopper', u'horrendous', u'horrible', u'horribly', u'horrid', u'horrific', u'horrifying', u'horror', u'horrors', u'horse', u'horses', u'hospital', u'host', u'hot', u'hotel', u'hour', u'hours', u'house', u'household', u'houses', u'howard', u'however', u'hudson', u'huge', u'hugh', u'huh', u'hulk', u'human', u'humanity', u'humans', u'humble', u'humor', u'humorous', u'humour', u'hundred', u'hundreds', u'hungry', u'hunt', u'hunter', u'hunters', u'hunting', u'hurt', u'hurts', u'husband', u'hyde', u'hype', u'hyped', u'hysterical', u'ian', u'ice', u'iconic', u'idea', u'ideal', u'ideas', u'identify', u'identity', u'idiot', u'idiotic', u'idiots', u'idol', u'ignorance', u'ignorant', u'ignore', u'ignored', u'ii', u'iii', u'ill', u'illegal', u'illness', u'im', u'image', u'imagery', u'images', u'imagination', u'imaginative', u'imagine', u'imagined', u'imdb', u'imitation', u'immediate', u'immediately', u'immensely', u'impact', u'implausible', u'importance', u'important', u'importantly', u'impossible', u'impress', u'impressed', u'impression', u'impressive', u'improve', u'improved', u'improvement', u'inane', u'inappropriate', u'incident', u'include', u'included', u'includes', u'including', u'incoherent', u'increasingly', u'incredible', u'incredibly', u'indeed', u'independent', u'india', u'indian', u'indians', u'indie', u'individual', u'individuals', u'industrial', u'industry', u'inept', u'inevitable', u'inevitably', u'inexplicably', u'infamous', u'infected', u'inferior', u'influence', u'influenced', u'information', u'ingredients', u'initial', u'initially', u'injured', u'inner', u'innocence', u'innocent', u'innovative', u'insane', u'inside', u'insight', u'inspector', u'inspiration', u'inspire', u'inspired', u'inspiring', u'installment', u'instance', u'instant', u'instantly', u'instead', u'instinct', u'insult', u'insulting', u'intellectual', u'intelligence', u'intelligent', u'intended', u'intense', u'intensity', u'intent', u'intention', u'intentionally', u'intentions', u'interaction', u'interactions', u'interest', u'interested', u'interesting', u'interests', u'international', u'internet', u'interpretation', u'interview', u'interviews', u'intimate', u'intrigue', u'intrigued', u'intriguing', u'introduced', u'introduces', u'introduction', u'inventive', u'investigate', u'investigation', u'invisible', u'involve', u'involved', u'involvement', u'involves', u'involving', u'iraq', u'ireland', u'irish', u'iron', u'ironic', u'ironically', u'irony', u'irritating', u'ish', u'island', u'isolated', u'israel', u'issue', u'issues', u'italian', u'italy', u'items', u'iv', u'jack', u'jackie', u'jackson', u'jail', u'jake', u'james', u'jamie', u'jane', u'japan', u'japanese', u'jared', u'jason', u'jaw', u'jaws', u'jay', u'jazz', u'jealous', u'jean', u'jeff', u'jeffrey', u'jennifer', u'jenny', u'jeremy', u'jerk', u'jerry', u'jesse', u'jessica', u'jesus', u'jet', u'jewish', u'jim', u'jimmy', u'joan', u'job', u'jobs', u'joe', u'joel', u'joey', u'john', u'johnny', u'johnson', u'join', u'joined', u'joins', u'joke', u'jokes', u'jon', u'jonathan', u'jones', u'joseph', u'josh', u'journalist', u'journey', u'joy', u'jr', u'judge', u'judging', u'judy', u'julia', u'julian', u'julie', u'jump', u'jumped', u'jumping', u'jumps', u'jungle', u'junior', u'junk', u'justice', u'juvenile', u'kane', u'kapoor', u'karen', u'karl', u'karloff', u'kate', u'keaton', u'keep', u'keeping', u'keeps', u'keith', u'kelly', u'ken', u'kennedy', u'kenneth', u'kept', u'kevin', u'key', u'kick', u'kicked', u'kicking', u'kicks', u'kid', u'kidding', u'kidman', u'kidnapped', u'kids', u'kill', u'killed', u'killer', u'killers', u'killing', u'killings', u'kills', u'kim', u'kind', u'kinda', u'kinds', u'king', u'kingdom', u'kiss', u'kissing', u'kitchen', u'knew', u'knife', u'knight', u'knock', u'knocked', u'know', u'knowing', u'knowledge', u'known', u'knows', u'kolchak', u'kong', u'korean', u'kornbluth', u'kubrick', u'kudos', u'kumar', u'kung', u'kurosawa', u'kurt', u'kyle', u'la', u'lab', u'labor', u'lack', u'lacked', u'lacking', u'lacks', u'ladder', u'ladies', u'lady', u'laid', u'lake', u'lame', u'land', u'lands', u'landscape', u'lane', u'language', u'large', u'largely', u'larger', u'larry', u'last', u'lasted', u'late', u'lately', u'later', u'latest', u'latin', u'latter', u'laugh', u'laughable', u'laughed', u'laughing', u'laughs', u'laughter', u'laura', u'laurel', u'laurie', u'law', u'lawrence', u'laws', u'lawyer', u'lay', u'lazy', u'le', u'lead', u'leader', u'leading', u'leads', u'league', u'learn', u'learned', u'learning', u'learns', u'least', u'leave', u'leaves', u'leaving', u'led', u'lee', u'left', u'leg', u'legacy', u'legal', u'legend', u'legendary', u'legends', u'legs', u'leigh', u'lemmon', u'lena', u'length', u'lengthy', u'lennon', u'leo', u'leon', u'leonard', u'les', u'lesbian', u'leslie', u'less', u'lesser', u'lesson', u'lessons', u'let', u'lets', u'letter', u'letters', u'letting', u'level', u'levels', u'lewis', u'li', u'liberal', u'library', u'lie', u'lies', u'life', u'lifestyle', u'lifetime', u'lift', u'light', u'lighting', u'lights', u'likable', u'like', u'liked', u'likely', u'likes', u'likewise', u'liking', u'lily', u'limited', u'limits', u'lincoln', u'linda', u'line', u'linear', u'liners', u'lines', u'lion', u'lips', u'lisa', u'list', u'listed', u'listen', u'listening', u'lit', u'literally', u'literary', u'literature', u'little', u'liu', u'live', u'lived', u'lively', u'lives', u'living', u'lloyd', u'load', u'loads', u'local', u'locals', u'location', u'locations', u'lock', u'locked', u'logan', u'logic', u'logical', u'lol', u'london', u'lone', u'lonely', u'long', u'longer', u'look', u'looked', u'looking', u'looks', u'loose', u'loosely', u'lord', u'los', u'lose', u'loser', u'losers', u'loses', u'losing', u'loss', u'lost', u'lot', u'lots', u'lou', u'loud', u'louis', u'louise', u'lousy', u'lovable', u'love', u'loved', u'lovely', u'lover', u'lovers', u'loves', u'loving', u'low', u'lower', u'lowest', u'loyal', u'lucas', u'luck', u'luckily', u'lucky', u'lucy', u'ludicrous', u'lugosi', u'luke', u'lumet', u'lundgren', u'lust', u'luzhin', u'lying', u'lynch', u'lyrics', u'macarthur', u'machine', u'machines', u'macy', u'mad', u'made', u'madness', u'mafia', u'magazine', u'maggie', u'magic', u'magical', u'magnificent', u'mail', u'main', u'mainly', u'mainstream', u'maintain', u'major', u'majority', u'make', u'maker', u'makers', u'makes', u'makeup', u'making', u'male', u'malone', u'man', u'manage', u'managed', u'manager', u'manages', u'mandy', u'manhattan', u'maniac', u'manipulative', u'mankind', u'mann', u'manner', u'mansion', u'many', u'map', u'marc', u'march', u'margaret', u'maria', u'marie', u'mario', u'marion', u'mark', u'market', u'marks', u'marriage', u'married', u'marries', u'marry', u'mars', u'marshall', u'martial', u'martin', u'marty', u'marvelous', u'mary', u'mask', u'masks', u'mass', u'massacre', u'massive', u'master', u'masterful', u'masterpiece', u'masterpieces', u'masters', u'match', u'matches', u'mate', u'material', u'mathieu', u'matrix', u'matt', u'matter', u'matters', u'matthau', u'matthew', u'mature', u'max', u'may', u'maybe', u'mean', u'meaning', u'meaningful', u'meaningless', u'means', u'meant', u'meanwhile', u'meat', u'mechanical', u'media', u'medical', u'mediocre', u'medium', u'meet', u'meeting', u'meets', u'mel', u'melodrama', u'melodramatic', u'melting', u'member', u'members', u'memorable', u'memories', u'memory', u'men', u'menace', u'menacing', u'mental', u'mentality', u'mentally', u'mention', u'mentioned', u'mentioning', u'mentions', u'mere', u'merely', u'merit', u'mess', u'message', u'messages', u'messed', u'met', u'metal', u'method', u'methods', u'mexican', u'mexico', u'mgm', u'miami', u'michael', u'michelle', u'mid', u'middle', u'midnight', u'might', u'mighty', u'miike', u'mike', u'mild', u'mildly', u'mile', u'miles', u'military', u'mill', u'miller', u'million', u'millionaire', u'millions', u'milo', u'mind', u'minded', u'mindless', u'minds', u'mine', u'mini', u'minimal', u'minimum', u'minor', u'minus', u'minute', u'minutes', u'miracle', u'mirror', u'miscast', u'miserable', u'miserably', u'misery', u'misguided', u'misleading', u'miss', u'missed', u'misses', u'missing', u'mission', u'mistake', u'mistaken', u'mistakes', u'mistress', u'mitchell', u'mix', u'mixed', u'mixture', u'mob', u'model', u'models', u'modern', u'modest', u'modesty', u'moe', u'mol', u'molly', u'mom', u'moment', u'moments', u'mon', u'money', u'monk', u'monkey', u'monkeys', u'monster', u'monsters', u'montage', u'montana', u'month', u'months', u'mood', u'moon', u'moore', u'moral', u'morality', u'morbid', u'moreover', u'morgan', u'morning', u'moronic', u'morris', u'mostly', u'mother', u'mothers', u'motion', u'motivation', u'motivations', u'motives', u'mountain', u'mountains', u'mouse', u'mouth', u'move', u'moved', u'movement', u'movements', u'moves', u'movie', u'movies', u'moving', u'mr', u'mrs', u'ms', u'mst', u'mtv', u'much', u'muddled', u'multi', u'multiple', u'mundane', u'murder', u'murdered', u'murderer', u'murderous', u'murders', u'murphy', u'murray', u'museum', u'music', u'musical', u'musicals', u'musician', u'musicians', u'muslim', u'must', u'myers', u'mysteries', u'mysterious', u'mystery', u'nail', u'nails', u'naive', u'naked', u'name', u'named', u'namely', u'names', u'nancy', u'narration', u'narrative', u'narrator', u'nasty', u'nathan', u'nation', u'national', u'native', u'natural', u'naturally', u'nature', u'naughty', u'navy', u'nazi', u'nazis', u'nd', u'neal', u'near', u'nearby', u'nearly', u'neat', u'necessarily', u'necessary', u'neck', u'ned', u'need', u'needed', u'needless', u'needs', u'negative', u'neighbor', u'neighborhood', u'neighbors', u'neil', u'neither', u'nelson', u'nemesis', u'neo', u'nervous', u'network', u'never', u'nevertheless', u'new', u'newly', u'newman', u'news', u'newspaper', u'next', u'nice', u'nicely', u'nicholson', u'nick', u'nicolas', u'niece', u'night', u'nightmare', u'nightmares', u'nights', u'nine', u'niro', u'noble', u'nobody', u'noir', u'noise', u'noises', u'nolte', u'nominated', u'nomination', u'non', u'none', u'nonetheless', u'nonsense', u'normal', u'normally', u'norman', u'north', u'northern', u'nose', u'nostalgia', u'nostalgic', u'notable', u'notably', u'notch', u'note', u'noted', u'notes', u'nothing', u'notice', u'noticed', u'notion', u'notorious', u'novak', u'novel', u'novels', u'nowadays', u'nowhere', u'nuclear', u'nude', u'nudity', u'number', u'numbers', u'numerous', u'nurse', u'nut', u'nuts', u'nyc', u'object', u'obnoxious', u'obscure', u'obsessed', u'obsession', u'obvious', u'obviously', u'occasion', u'occasional', u'occasionally', u'occasions', u'occur', u'occurred', u'occurs', u'ocean', u'odd', u'oddly', u'odds', u'offended', u'offensive', u'offer', u'offered', u'offering', u'offers', u'office', u'officer', u'officers', u'official', u'often', u'oh', u'oil', u'ok', u'okay', u'old', u'older', u'oliver', u'olivier', u'ollie', u'omen', u'one', u'ones', u'online', u'onto', u'open', u'opened', u'opening', u'opens', u'opera', u'operation', u'opinion', u'opinions', u'opportunities', u'opportunity', u'opposed', u'opposite', u'orange', u'order', u'orders', u'ordinary', u'organized', u'original', u'originality', u'originally', u'orson', u'oscar', u'oscars', u'othello', u'others', u'otherwise', u'ought', u'outcome', u'outer', u'outfit', u'outrageous', u'outs', u'outside', u'outstanding', u'overall', u'overcome', u'overdone', u'overlook', u'overlooked', u'overly', u'overrated', u'overwhelming', u'owen', u'owned', u'owner', u'oz', u'pace', u'paced', u'pacing', u'pacino', u'pack', u'packed', u'page', u'paid', u'pain', u'painful', u'painfully', u'paint', u'painted', u'painting', u'pair', u'palma', u'pamela', u'pan', u'panic', u'pants', u'paper', u'par', u'parallel', u'parent', u'parents', u'paris', u'park', u'parker', u'parody', u'part', u'particular', u'particularly', u'parties', u'partly', u'partner', u'partners', u'parts', u'party', u'pass', u'passed', u'passes', u'passing', u'passion', u'passionate', u'past', u'pat', u'path', u'pathetic', u'patience', u'patient', u'patients', u'patrick', u'paul', u'pay', u'paying', u'pays', u'peace', u'peak', u'pearl', u'peck', u'penn', u'penny', u'people', u'peoples', u'per', u'perfect', u'perfection', u'perfectly', u'perform', u'performance', u'performances', u'performed', u'performer', u'performers', u'performing', u'performs', u'perhaps', u'period', u'perry', u'person', u'persona', u'personal', u'personalities', u'personality', u'personally', u'persons', u'perspective', u'pet', u'peter', u'peters', u'petty', u'pg', u'philip', u'philosophical', u'philosophy', u'phone', u'photo', u'photographed', u'photographer', u'photography', u'photos', u'phrase', u'physical', u'physically', u'piano', u'pick', u'picked', u'picking', u'picks', u'picture', u'pictures', u'pie', u'piece', u'pieces', u'pierce', u'pig', u'pile', u'pilot', u'pin', u'pit', u'pitch', u'pitiful', u'pitt', u'pity', u'pixar', u'place', u'placed', u'places', u'plague', u'plain', u'plan', u'plane', u'planet', u'planned', u'planning', u'plans', u'plant', u'plastic', u'play', u'played', u'player', u'players', u'playing', u'plays', u'pleasant', u'pleasantly', u'please', u'pleased', u'pleasure', u'plenty', u'plot', u'plots', u'plus', u'poetic', u'poetry', u'poignant', u'point', u'pointed', u'pointless', u'points', u'poison', u'pokemon', u'polanski', u'police', u'polished', u'political', u'politically', u'politics', u'pool', u'poor', u'poorly', u'pop', u'popcorn', u'pops', u'popular', u'population', u'porn', u'porno', u'porter', u'portion', u'portrait', u'portray', u'portrayal', u'portrayals', u'portrayed', u'portraying', u'portrays', u'position', u'positive', u'positively', u'possessed', u'possibilities', u'possibility', u'possible', u'possibly', u'post', u'poster', u'pot', u'potential', u'potentially', u'poverty', u'powell', u'power', u'powerful', u'powers', u'practically', u'practice', u'praise', u'pre', u'precious', u'predictable', u'prefer', u'pregnant', u'prejudice', u'premise', u'prepared', u'preposterous', u'presence', u'present', u'presentation', u'presented', u'presents', u'president', u'press', u'pressure', u'presumably', u'pretend', u'pretending', u'pretentious', u'pretty', u'prevent', u'preview', u'previous', u'previously', u'prey', u'price', u'priceless', u'pride', u'priest', u'primarily', u'primary', u'prime', u'prince', u'princess', u'principal', u'print', u'prior', u'prison', u'prisoner', u'private', u'prize', u'pro', u'probably', u'problem', u'problems', u'proceedings', u'process', u'produce', u'produced', u'producer', u'producers', u'producing', u'product', u'production', u'productions', u'profanity', u'profession', u'professional', u'professor', u'profound', u'program', u'progress', u'progresses', u'project', u'projects', u'prom', u'promise', u'promised', u'promising', u'proof', u'propaganda', u'proper', u'properly', u'property', u'props', u'prostitute', u'protagonist', u'protagonists', u'protect', u'proud', u'prove', u'proved', u'proves', u'provide', u'provided', u'provides', u'providing', u'provocative', u'provoking', u'ps', u'pseudo', u'psychiatrist', u'psycho', u'psychological', u'psychotic', u'public', u'pull', u'pulled', u'pulling', u'pulls', u'pulp', u'punch', u'punches', u'punishment', u'punk', u'purchase', u'purchased', u'pure', u'purely', u'purple', u'purpose', u'purposes', u'pursuit', u'push', u'pushed', u'pushing', u'put', u'puts', u'putting', u'qualities', u'quality', u'queen', u'quest', u'question', u'questionable', u'questions', u'quick', u'quickly', u'quiet', u'quinn', u'quirky', u'quite', u'quote', u'quotes', u'rabbit', u'race', u'rachel', u'racial', u'racism', u'racist', u'radio', u'rage', u'rain', u'raise', u'raised', u'raising', u'raj', u'ralph', u'rambo', u'ran', u'random', u'randomly', u'randy', u'range', u'rank', u'ranks', u'rap', u'rape', u'raped', u'rapist', u'rare', u'rarely', u'rat', u'rate', u'rated', u'rates', u'rather', u'rating', u'ratings', u'rats', u'ratso', u'raw', u'ray', u'razor', u'rd', u'reach', u'reached', u'reaches', u'reaching', u'react', u'reaction', u'reactions', u'read', u'reader', u'reading', u'ready', u'real', u'realise', u'realised', u'realism', u'realistic', u'reality', u'realize', u'realized', u'realizes', u'realizing', u'really', u'reason', u'reasonable', u'reasonably', u'reasons', u'rebel', u'recall', u'receive', u'received', u'receiving', u'recent', u'recently', u'recognition', u'recognize', u'recognized', u'recommend', u'recommendation', u'recommended', u'record', u'recorded', u'records', u'red', u'redeem', u'redeeming', u'redemption', u'reduced', u'reed', u'reference', u'references', u'referring', u'reflection', u'refreshing', u'refused', u'refuses', u'regard', u'regarding', u'regardless', u'region', u'regret', u'regular', u'reid', u'reign', u'relate', u'related', u'relation', u'relations', u'relationship', u'relationships', u'relative', u'relatively', u'relax', u'release', u'released', u'relevant', u'relief', u'religion', u'religious', u'rely', u'remain', u'remaining', u'remains', u'remake', u'remakes', u'remarkable', u'remarkably', u'remarks', u'remember', u'remembered', u'remind', u'reminded', u'reminds', u'reminiscent', u'remote', u'remotely', u'removed', u'rendered', u'rendition', u'rent', u'rental', u'rented', u'renting', u'repeat', u'repeated', u'repeatedly', u'repetitive', u'replace', u'replaced', u'report', u'reporter', u'represent', u'represented', u'represents', u'reputation', u'require', u'required', u'requires', u'rescue', u'research', u'resemblance', u'resemble', u'resembles', u'resident', u'resist', u'resistance', u'resolution', u'resolved', u'respect', u'respected', u'respective', u'response', u'responsibility', u'responsible', u'rest', u'restaurant', u'restored', u'result', u'resulting', u'results', u'retarded', u'retired', u'return', u'returned', u'returning', u'returns', u'reunion', u'reveal', u'revealed', u'revealing', u'reveals', u'revelation', u'revenge', u'review', u'reviewer', u'reviewers', u'reviews', u'revolution', u'revolutionary', u'revolves', u'rex', u'reynolds', u'rich', u'richard', u'richards', u'richardson', u'rick', u'rid', u'ridden', u'ride', u'ridiculous', u'ridiculously', u'riding', u'rifle', u'right', u'rights', u'ring', u'rings', u'riot', u'rip', u'ripped', u'rise', u'rises', u'rising', u'risk', u'ritter', u'rival', u'river', u'riveting', u'road', u'rob', u'robbery', u'robbins', u'robert', u'roberts', u'robin', u'robot', u'robots', u'rochester', u'rock', u'rocket', u'rocks', u'rocky', u'roger', u'rogers', u'role', u'roles', u'roll', u'rolled', u'roller', u'rolling', u'roman', u'romance', u'romantic', u'romero', u'ron', u'room', u'roommate', u'rooms', u'rooney', u'root', u'rope', u'rose', u'rotten', u'rough', u'round', u'route', u'routine', u'row', u'roy', u'royal', u'rubber', u'rubbish', u'ruin', u'ruined', u'rukh', u'rule', u'rules', u'run', u'runner', u'running', u'runs', u'rural', u'rush', u'rushed', u'russell', u'russia', u'russian', u'ruth', u'ruthless', u'ryan', u'sacrifice', u'sad', u'sadistic', u'sadly', u'sadness', u'safe', u'safety', u'saga', u'said', u'saint', u'sake', u'sally', u'sam', u'samurai', u'san', u'sanders', u'sandler', u'sandra', u'santa', u'sarah', u'sat', u'satan', u'satire', u'satisfied', u'satisfy', u'satisfying', u'saturday', u'savage', u'save', u'saved', u'saves', u'saving', u'saw', u'say', u'saying', u'says', u'scale', u'scare', u'scarecrow', u'scared', u'scares', u'scary', u'scenario', u'scene', u'scenery', u'scenes', u'scheme', u'school', u'schools', u'sci', u'science', u'scientific', u'scientist', u'scientists', u'scooby', u'scoop', u'scope', u'score', u'scotland', u'scott', u'scottish', u'scream', u'screaming', u'screams', u'screen', u'screening', u'screenplay', u'screenwriter', u'screw', u'script', u'scripted', u'scripts', u'sea', u'seagal', u'sean', u'search', u'searching', u'season', u'seasons', u'seat', u'second', u'secondly', u'seconds', u'secret', u'secretary', u'secretly', u'secrets', u'section', u'security', u'see', u'seed', u'seeing', u'seek', u'seeking', u'seeks', u'seem', u'seemed', u'seemingly', u'seems', u'seen', u'sees', u'segment', u'segments', u'selection', u'self', u'selfish', u'sell', u'sellers', u'selling', u'semi', u'send', u'sends', u'sense', u'senseless', u'sensitive', u'sent', u'sentence', u'sentiment', u'sentimental', u'separate', u'september', u'sequel', u'sequels', u'sequence', u'sequences', u'serial', u'series', u'serious', u'seriously', u'serve', u'served', u'serves', u'service', u'set', u'sets', u'setting', u'settings', u'settle', u'seven', u'seventies', u'several', u'severe', u'sex', u'sexual', u'sexuality', u'sexually', u'sexy', u'shadow', u'shadows', u'shaggy', u'shake', u'shakespeare', u'shall', u'shallow', u'shame', u'shanghai', u'shape', u'share', u'shark', u'sharon', u'sharp', u'shaw', u'sheer', u'shelf', u'shelley', u'sheriff', u'shine', u'shines', u'shining', u'ship', u'ships', u'shirley', u'shirt', u'shock', u'shocked', u'shocking', u'shoes', u'sholay', u'shoot', u'shooting', u'shoots', u'shop', u'short', u'shortcomings', u'shortly', u'shorts', u'shot', u'shots', u'shoulders', u'show', u'showed', u'shower', u'showing', u'shown', u'shows', u'shut', u'shy', u'sick', u'side', u'sidekick', u'sides', u'sidney', u'sight', u'sign', u'significant', u'silence', u'silent', u'silly', u'silver', u'similar', u'similarities', u'similarly', u'simmons', u'simon', u'simple', u'simplicity', u'simplistic', u'simply', u'simpson', u'simultaneously', u'sin', u'sinatra', u'since', u'sincere', u'sing', u'singer', u'singing', u'single', u'sings', u'sinister', u'sink', u'sir', u'sissy', u'sister', u'sisters', u'sit', u'sitcom', u'site', u'sits', u'sitting', u'situation', u'situations', u'six', u'sixties', u'size', u'sketch', u'skill', u'skills', u'skin', u'skip', u'skull', u'sky', u'slap', u'slapstick', u'slasher', u'slaughter', u'slave', u'sleaze', u'sleazy', u'sleep', u'sleeping', u'slick', u'slight', u'slightest', u'slightly', u'sloppy', u'slow', u'slowly', u'small', u'smaller', u'smart', u'smile', u'smith', u'smoke', u'smoking', u'smooth', u'snake', u'snakes', u'sneak', u'snl', u'snow', u'soap', u'soccer', u'social', u'society', u'soft', u'sold', u'soldier', u'soldiers', u'sole', u'solely', u'solid', u'solo', u'solution', u'solve', u'somebody', u'someday', u'somehow', u'someone', u'something', u'sometimes', u'somewhat', u'somewhere', u'son', u'song', u'songs', u'sons', u'soon', u'sooner', u'sophisticated', u'sorry', u'sort', u'sorts', u'soul', u'souls', u'sound', u'sounded', u'sounding', u'sounds', u'soundtrack', u'source', u'south', u'southern', u'soviet', u'space', u'spacey', u'spain', u'spanish', u'spare', u'speak', u'speaking', u'speaks', u'special', u'species', u'specific', u'specifically', u'spectacular', u'speech', u'speed', u'spell', u'spend', u'spending', u'spends', u'spent', u'spider', u'spielberg', u'spike', u'spin', u'spinal', u'spirit', u'spirited', u'spirits', u'spiritual', u'spite', u'splatter', u'splendid', u'split', u'spock', u'spoil', u'spoiled', u'spoiler', u'spoilers', u'spoke', u'spoken', u'spoof', u'spooky', u'sport', u'sports', u'spot', u'spots', u'spread', u'spring', u'spy', u'squad', u'square', u'st', u'stack', u'staff', u'stage', u'staged', u'stale', u'stan', u'stand', u'standard', u'standards', u'standing', u'stands', u'stanley', u'stanwyck', u'star', u'staring', u'stark', u'starred', u'starring', u'stars', u'start', u'started', u'starting', u'starts', u'state', u'stated', u'statement', u'states', u'static', u'station', u'status', u'stay', u'stayed', u'staying', u'stays', u'steal', u'stealing', u'steals', u'steel', u'stellar', u'step', u'stephen', u'steps', u'stereotype', u'stereotypes', u'stereotypical', u'steve', u'steven', u'stevens', u'stewart', u'stick', u'sticks', u'stiff', u'still', u'stiller', u'stilted', u'stinker', u'stinks', u'stock', u'stole', u'stolen', u'stomach', u'stone', u'stood', u'stooges', u'stop', u'stopped', u'stops', u'store', u'stories', u'storm', u'story', u'storyline', u'storytelling', u'straight', u'strange', u'strangely', u'stranger', u'strangers', u'streep', u'street', u'streets', u'streisand', u'strength', u'strengths', u'stress', u'stretch', u'stretched', u'strictly', u'strike', u'strikes', u'striking', u'string', u'strip', u'strong', u'stronger', u'strongly', u'struck', u'structure', u'struggle', u'struggles', u'struggling', u'stuck', u'student', u'students', u'studio', u'studios', u'study', u'studying', u'stuff', u'stumbled', u'stunned', u'stunning', u'stunt', u'stunts', u'stupid', u'stupidity', u'style', u'styles', u'stylish', u'sub', u'subject', u'subjects', u'subplot', u'subplots', u'subsequent', u'substance', u'subtitles', u'subtle', u'subtlety', u'succeed', u'succeeded', u'succeeds', u'success', u'successful', u'successfully', u'suck', u'sucked', u'sucks', u'sudden', u'suddenly', u'sue', u'suffer', u'suffered', u'suffering', u'suffers', u'suggest', u'suggested', u'suggests', u'suicide', u'suit', u'suitable', u'suitably', u'suited', u'suits', u'sullivan', u'sum', u'summary', u'summer', u'sums', u'sun', u'sunday', u'sung', u'sunny', u'sunshine', u'super', u'superb', u'superbly', u'superficial', u'superhero', u'superior', u'superman', u'supernatural', u'support', u'supported', u'supporting', u'suppose', u'supposed', u'supposedly', u'sure', u'surely', u'surface', u'surfing', u'surprise', u'surprised', u'surprises', u'surprising', u'surprisingly', u'surreal', u'surrounded', u'surrounding', u'survival', u'survive', u'survived', u'surviving', u'survivor', u'survivors', u'susan', u'suspect', u'suspects', u'suspense', u'suspenseful', u'suspicious', u'sutherland', u'swear', u'swedish', u'sweet', u'swing', u'switch', u'sword', u'symbolism', u'sympathetic', u'sympathy', u'synopsis', u'system', u'table', u'tad', u'tag', u'take', u'taken', u'taker', u'takes', u'taking', u'tale', u'talent', u'talented', u'talents', u'tales', u'talk', u'talked', u'talking', u'talks', u'tall', u'tame', u'tank', u'tap', u'tape', u'target', u'tarzan', u'task', u'taste', u'taught', u'taylor', u'tea', u'teach', u'teacher', u'teaching', u'team', u'tear', u'tears', u'technical', u'technically', u'technique', u'techniques', u'technology', u'ted', u'tedious', u'teen', u'teenage', u'teenager', u'teenagers', u'teens', u'teeth', u'television', u'tell', u'telling', u'tells', u'temple', u'ten', u'tend', u'tender', u'tends', u'tense', u'tension', u'term', u'terms', u'terrible', u'terribly', u'terrific', u'terrifying', u'territory', u'terror', u'terrorist', u'terrorists', u'terry', u'test', u'texas', u'text', u'th', u'thank', u'thankfully', u'thanks', u'thats', u'theater', u'theaters', u'theatre', u'theatrical', u'theme', u'themes', u'theory', u'therefore', u'thick', u'thief', u'thin', u'thing', u'things', u'think', u'thinking', u'thinks', u'third', u'thirty', u'thomas', u'thoroughly', u'though', u'thought', u'thoughtful', u'thoughts', u'thousand', u'thousands', u'thread', u'threat', u'threatening', u'threatens', u'three', u'threw', u'thrill', u'thriller', u'thrillers', u'thrilling', u'thrills', u'throat', u'throughout', u'throw', u'throwing', u'thrown', u'throws', u'thugs', u'thumbs', u'thurman', u'thus', u'ticket', u'tie', u'tied', u'tierney', u'ties', u'tiger', u'tight', u'till', u'tim', u'time', u'timeless', u'times', u'timing', u'timothy', u'tiny', u'tired', u'tiresome', u'titanic', u'title', u'titled', u'titles', u'today', u'todd', u'together', u'toilet', u'tokyo', u'told', u'tom', u'tomatoes', u'tommy', u'tomorrow', u'tone', u'tongue', u'tonight', u'tons', u'tony', u'took', u'tooth', u'top', u'topic', u'topless', u'torn', u'torture', u'tortured', u'total', u'totally', u'touch', u'touched', u'touches', u'touching', u'tough', u'tour', u'toward', u'towards', u'town', u'toy', u'toys', u'track', u'tracks', u'tracy', u'trade', u'trademark', u'tradition', u'traditional', u'tragedy', u'tragic', u'trail', u'trailer', u'trailers', u'train', u'training', u'transfer', u'transformation', u'transition', u'translation', u'trap', u'trapped', u'trash', u'trashy', u'travel', u'traveling', u'travels', u'treasure', u'treat', u'treated', u'treatment', u'treats', u'tree', u'trees', u'trek', u'tremendous', u'trial', u'triangle', u'tribute', u'trick', u'tricks', u'tried', u'trier', u'tries', u'trilogy', u'trio', u'trip', u'triple', u'trite', u'triumph', u'trivia', u'trouble', u'troubled', u'troubles', u'truck', u'true', u'truly', u'trust', u'truth', u'try', u'trying', u'tune', u'tunes', u'tunnel', u'turkey', u'turn', u'turned', u'turner', u'turning', u'turns', u'tv', u'twelve', u'twenty', u'twice', u'twilight', u'twin', u'twins', u'twist', u'twisted', u'twists', u'two', u'type', u'types', u'typical', u'typically', u'ugly', u'uk', u'ultimate', u'ultimately', u'ultra', u'un', u'unable', u'unaware', u'unbearable', u'unbelievable', u'unbelievably', u'uncle', u'uncomfortable', u'unconvincing', u'underground', u'underrated', u'understand', u'understanding', u'understood', u'undoubtedly', u'uneven', u'unexpected', u'unexpectedly', u'unfair', u'unfolds', u'unforgettable', u'unfortunate', u'unfortunately', u'unfunny', u'unhappy', u'uninspired', u'unintentional', u'unintentionally', u'uninteresting', u'union', u'unique', u'unit', u'united', u'universal', u'universe', u'university', u'unknown', u'unless', u'unlikable', u'unlike', u'unlikely', u'unnecessary', u'unpleasant', u'unpredictable', u'unreal', u'unrealistic', u'unseen', u'unsettling', u'unusual', u'unwatchable', u'upon', u'upper', u'ups', u'upset', u'urban', u'urge', u'us', u'usa', u'use', u'used', u'useful', u'useless', u'user', u'uses', u'using', u'usual', u'usually', u'utter', u'utterly', u'uwe', u'vacation', u'vague', u'vaguely', u'valentine', u'valley', u'valuable', u'value', u'values', u'vampire', u'vampires', u'van', u'vanessa', u'vargas', u'variety', u'various', u'vast', u'vegas', u'vehicle', u'verhoeven', u'version', u'versions', u'versus', u'veteran', u'vhs', u'via', u'vice', u'vicious', u'victim', u'victims', u'victor', u'victoria', u'victory', u'video', u'videos', u'vietnam', u'view', u'viewed', u'viewer', u'viewers', u'viewing', u'viewings', u'views', u'vile', u'village', u'villain', u'villains', u'vincent', u'violence', u'violent', u'virgin', u'virginia', u'virtually', u'virus', u'vision', u'visit', u'visited', u'visual', u'visually', u'visuals', u'vivid', u'voice', u'voiced', u'voices', u'voight', u'von', u'vote', u'vs', u'vulnerable', u'wacky', u'wagner', u'wait', u'waited', u'waiting', u'wake', u'walk', u'walked', u'walken', u'walker', u'walking', u'walks', u'wall', u'wallace', u'walls', u'walsh', u'walter', u'wandering', u'wang', u'wanna', u'wannabe', u'want', u'wanted', u'wanting', u'wants', u'war', u'ward', u'warm', u'warming', u'warmth', u'warn', u'warned', u'warner', u'warning', u'warren', u'warrior', u'warriors', u'wars', u'washington', u'waste', u'wasted', u'wasting', u'watch', u'watchable', u'watched', u'watches', u'watching', u'water', u'waters', u'watson', u'wave', u'waves', u'way', u'wayne', u'ways', u'weak', u'weakest', u'weaknesses', u'wealth', u'wealthy', u'weapon', u'weapons', u'wear', u'wearing', u'wears', u'web', u'website', u'wedding', u'week', u'weekend', u'weeks', u'weight', u'weird', u'welcome', u'well', u'welles', u'wells', u'wendigo', u'wendy', u'went', u'werewolf', u'werewolves', u'wes', u'west', u'western', u'westerns', u'wet', u'whale', u'whatever', u'whats', u'whatsoever', u'whenever', u'whereas', u'whether', u'whilst', u'whining', u'white', u'whoever', u'whole', u'whoopi', u'whose', u'wicked', u'wide', u'widely', u'widmark', u'widow', u'wife', u'wild', u'william', u'williams', u'willie', u'willing', u'willis', u'wilson', u'win', u'wind', u'window', u'winds', u'wing', u'winner', u'winning', u'wins', u'winter', u'winters', u'wire', u'wisdom', u'wise', u'wish', u'wished', u'wishes', u'wishing', u'wit', u'witch', u'witches', u'within', u'without', u'witness', u'witnessed', u'witnesses', u'witty', u'wives', u'wizard', u'wolf', u'woman', u'women', u'wonder', u'wondered', u'wonderful', u'wonderfully', u'wondering', u'wonders', u'wont', u'wood', u'wooden', u'woods', u'woody', u'word', u'words', u'wore', u'work', u'worked', u'worker', u'workers', u'working', u'works', u'world', u'worlds', u'worried', u'worry', u'worse', u'worst', u'worth', u'worthless', u'worthwhile', u'worthy', u'would', u'wound', u'wounded', u'wow', u'wrap', u'wrapped', u'wreck', u'wrestling', u'wretched', u'write', u'writer', u'writers', u'writes', u'writing', u'written', u'wrong', u'wrote', u'ww', u'wwe', u'wwii', u'www', u'ya', u'yard', u'yawn', u'yeah', u'year', u'years', u'yelling', u'yellow', u'yep', u'yes', u'yesterday', u'yet', u'york', u'young', u'younger', u'youth', u'youthful', u'youtube', u'zero', u'zizek', u'zombie', u'zombies', u'zone', u'zorro']\n"
     ]
    }
   ],
   "source": [
    "vocab = vectorizer.get_feature_names()\n",
    "print(vocab)"
   ]
  },
  {
   "cell_type": "code",
   "execution_count": 30,
   "metadata": {
    "collapsed": false
   },
   "outputs": [
    {
     "name": "stdout",
     "output_type": "stream",
     "text": [
      "(15178, u'film')\n",
      "(9663, u'one')\n",
      "(7469, u'like')\n",
      "(5594, u'good')\n",
      "(4645, u'time')\n",
      "(4585, u'even')\n",
      "(4491, u'would')\n",
      "(4288, u'really')\n",
      "(4252, u'story')\n",
      "(4225, u'see')\n",
      "(3855, u'well')\n",
      "(3509, u'much')\n",
      "(3434, u'people')\n",
      "(3390, u'get')\n",
      "(3360, u'also')\n",
      "(3323, u'bad')\n",
      "(3322, u'great')\n",
      "(3241, u'first')\n",
      "(3018, u'made')\n"
     ]
    }
   ],
   "source": [
    "import numpy as np\n",
    "dist = np.sum(train_data_features, axis=0)\n",
    "\n",
    "vocab_count = {}\n",
    "# For each, print the vocabulary word and the number of times it \n",
    "# appears in the training set\n",
    "for count, tag in sorted([(count, tag) for tag, count in zip(vocab, dist)], reverse=True)[1:20]:\n",
    "    print(count, tag)\n",
    "    vocab_count[tag] = count"
   ]
  },
  {
   "cell_type": "code",
   "execution_count": 44,
   "metadata": {
    "collapsed": false
   },
   "outputs": [
    {
     "data": {
      "image/png": "[encoded data removed]",
      "text/plain": [
       "<matplotlib.figure.Figure at 0x136271ed0>"
      ]
     },
     "metadata": {},
     "output_type": "display_data"
    }
   ],
   "source": [
    "# plot the number of occurences of vocabs\n",
    "\n",
    "plt.bar(range(len(vocab_count)), vocab_count.values(), align='center')\n",
    "plt.xticks(range(len(vocab_count)), vocab_count.keys(), rotation=45)\n",
    "plt.xlabel('vocabulary', fontsize=18)\n",
    "plt.ylabel('# of occurences', fontsize=16)\n",
    "plt.title(\"Vocabuary and # of occurences\", fontsize=18)\n",
    "\n",
    "plt.show()"
   ]
  },
  {
   "cell_type": "code",
   "execution_count": 57,
   "metadata": {
    "collapsed": true
   },
   "outputs": [],
   "source": [
    "def clean_reviews(reviews, remove_stopwords=False):\n",
    "\n",
    "    reviews_text = list(map(lambda x: BeautifulSoup(x, 'html.parser').get_text(), reviews))\n",
    "\n",
    "    reviews_text = list(map(lambda x: re.sub(\"[^a-zA-Z]\",\" \", x), reviews_text))\n",
    "\n",
    "    words = list(map(lambda x: x.lower().split(), reviews_text))\n",
    "\n",
    "    if remove_stopwords:\n",
    "        set_of_stopwords = set(stopwords.words(\"english\"))\n",
    "        meaningful_words = list(map(lambda x: [w for w in x if not w in set_of_stopwords], words))\n",
    "    \n",
    "\n",
    "    clean_review = list(map(lambda x: ' '.join(x), meaningful_words))\n",
    "    \n",
    "    return clean_review"
   ]
  },
  {
   "cell_type": "code",
   "execution_count": 58,
   "metadata": {
    "collapsed": false
   },
   "outputs": [
    {
     "name": "stdout",
     "output_type": "stream",
     "text": [
      "(25000, 2)\n"
     ]
    }
   ],
   "source": [
    "test = pd.read_csv('testData.tsv', header=0, delimiter='\\t', quoting=3)\n",
    "\n",
    "print (test.shape)\n",
    "\n",
    "clean_test_reviews = clean_reviews(list(test['review'].values), remove_stopwords=True)\n",
    "test_data_features = vectorizer.transform(clean_test_reviews)\n",
    "test_data_features_array = test_data_features.toarray()"
   ]
  },
  {
   "cell_type": "code",
   "execution_count": 59,
   "metadata": {
    "collapsed": false
   },
   "outputs": [
    {
     "name": "stdout",
     "output_type": "stream",
     "text": [
      "0.161699779249\n"
     ]
    }
   ],
   "source": [
    "from sklearn.cross_validation import cross_val_score\n",
    "from sklearn.ensemble import RandomForestClassifier\n",
    "\n",
    "random_clf = RandomForestClassifier(n_estimators=100, n_jobs=-1, random_state=42)\n",
    "\n",
    "random_clf_error = 1 - cross_val_score(random_clf, train_data_features, train_movie_data['sentiment'], cv=5, scoring='accuracy', n_jobs=-1).mean()\n",
    "\n",
    "print (random_clf_error)"
   ]
  },
  {
   "cell_type": "code",
   "execution_count": 60,
   "metadata": {
    "collapsed": false
   },
   "outputs": [],
   "source": [
    "random_clf.fit(train_data_features, train_movie_data['sentiment'])\n",
    "\n",
    "result = random_clf.predict(test_data_features)\n",
    "\n",
    "output = pd.DataFrame(data={\"id\":test[\"id\"], \"sentiment\":result})\n",
    "\n",
    "output.to_csv(\"random_forest_results_2.csv\", index=False, quoting=3) "
   ]
  },
  {
   "cell_type": "code",
   "execution_count": 56,
   "metadata": {
    "collapsed": false
   },
   "outputs": [
    {
     "name": "stdout",
     "output_type": "stream",
     "text": [
      "0.14701986755\n"
     ]
    }
   ],
   "source": [
    "# Logistic Regression\n",
    "from sklearn.linear_model import LogisticRegression\n",
    "\n",
    "logistic_clf = LogisticRegression()\n",
    "logistic_clf.fit(train_data_features, train_movie_data[\"sentiment\"])\n",
    "\n",
    "logistic_error = 1 - cross_val_score(logistic_clf, train_data_features, train_movie_data['sentiment'], cv=5, scoring='accuracy', n_jobs=-1).mean()\n",
    "\n",
    "print (logistic_error)"
   ]
  },
  {
   "cell_type": "code",
   "execution_count": 60,
   "metadata": {
    "collapsed": true
   },
   "outputs": [],
   "source": [
    "result_logistic = logistic_clf.predict(test_data_features)\n",
    "output_logistic = pd.DataFrame(data={\"id\":test[\"id\"], \"sentiment\":result})\n",
    "\n",
    "output_logistic.to_csv(\"logistic_regression_results.csv\", index=False, quoting=3) "
   ]
  },
  {
   "cell_type": "code",
   "execution_count": 62,
   "metadata": {
    "collapsed": false
   },
   "outputs": [
    {
     "data": {
      "text/plain": [
       "SVC(C=1.0, cache_size=200, class_weight=None, coef0=0.0,\n",
       "  decision_function_shape=None, degree=3, gamma='auto', kernel='rbf',\n",
       "  max_iter=-1, probability=False, random_state=None, shrinking=True,\n",
       "  tol=0.001, verbose=False)"
      ]
     },
     "execution_count": 62,
     "metadata": {},
     "output_type": "execute_result"
    }
   ],
   "source": [
    "# Support Vector Machine\n",
    "from sklearn.svm import SVC\n",
    "#clf_svm = SVC(gamma=0.001, C=100.)\n",
    "model_SVC = SVC()\n",
    "model_SVC.fit(train_data_features, train_movie_data[\"sentiment\"])"
   ]
  },
  {
   "cell_type": "code",
   "execution_count": 65,
   "metadata": {
    "collapsed": false
   },
   "outputs": [],
   "source": [
    "result_svc = model_SVC.predict(test_data_features_array)\n",
    "#output_svc = pd.DataFrame(data={\"id\":test[\"id\"], \"sentiment\":result})\n",
    "\n",
    "#output_svc.to_csv(\"svc_results.csv\", index=False, quoting=3) "
   ]
  },
  {
   "cell_type": "code",
   "execution_count": 66,
   "metadata": {
    "collapsed": false
   },
   "outputs": [
    {
     "data": {
      "text/plain": [
       "GaussianNB(priors=None)"
      ]
     },
     "execution_count": 66,
     "metadata": {},
     "output_type": "execute_result"
    }
   ],
   "source": [
    "# Naive Bayes \n",
    "from sklearn.naive_bayes import GaussianNB\n",
    "\n",
    "model_NB = GaussianNB()\n",
    "model_NB.fit(train_data_features, train_movie_data[\"sentiment\"])"
   ]
  },
  {
   "cell_type": "code",
   "execution_count": 67,
   "metadata": {
    "collapsed": true
   },
   "outputs": [],
   "source": [
    "result_nb = model_NB.predict(test_data_features_array)\n",
    "output_nb = pd.DataFrame(data={\"id\":test[\"id\"], \"sentiment\":result})\n",
    "\n",
    "output_nb.to_csv(\"naive_bayes_results.csv\", index=False, quoting=3) "
   ]
  },
  {
   "cell_type": "code",
   "execution_count": null,
   "metadata": {
    "collapsed": true
   },
   "outputs": [],
   "source": []
  }
 ],
 "metadata": {
  "anaconda-cloud": {},
  "kernelspec": {
   "display_name": "Python 2",
   "language": "python",
   "name": "python2"
  },
  "language_info": {
   "codemirror_mode": {
    "name": "ipython",
    "version": 2
   },
   "file_extension": ".py",
   "mimetype": "text/x-python",
   "name": "python",
   "nbconvert_exporter": "python",
   "pygments_lexer": "ipython2",
   "version": "2.7.13"
  }
 },
 "nbformat": 4,
 "nbformat_minor": 1
}
